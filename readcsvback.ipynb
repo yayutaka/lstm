{
 "cells": [
  {
   "cell_type": "code",
   "execution_count": 1,
   "id": "canadian-shannon",
   "metadata": {},
   "outputs": [],
   "source": [
    "import numpy as np\n",
    "import pandas as pd\n",
    "from datetime import datetime"
   ]
  },
  {
   "cell_type": "code",
   "execution_count": 2,
   "id": "waiting-habitat",
   "metadata": {},
   "outputs": [],
   "source": [
    "EUR_JPY_M1 = pd.read_csv('./data/EUR_JPY_200101022301202012312359_M1.csv')"
   ]
  },
  {
   "cell_type": "code",
   "execution_count": 3,
   "id": "dominican-boards",
   "metadata": {},
   "outputs": [
    {
     "name": "stdout",
     "output_type": "stream",
     "text": [
      "dataframeの各列のデータ型を確認==>\n",
      " <TICKER>         object\n",
      "<DTYYYYMMDD>      int64\n",
      "<TIME>            int64\n",
      "<OPEN>          float64\n",
      "<HIGH>          float64\n",
      "<LOW>           float64\n",
      "<CLOSE>         float64\n",
      "<VOL>             int64\n",
      "dtype: object\n"
     ]
    }
   ],
   "source": [
    "\n",
    "print('dataframeの各列のデータ型を確認==>\\n', EUR_JPY_M1.dtypes)\n",
    "\n",
    "EUR_JPY_M1['D'] = EUR_JPY_M1['<DTYYYYMMDD>'].apply(str)\n",
    "EUR_JPY_M1['T'] = EUR_JPY_M1['<TIME>'].apply(str)"
   ]
  },
  {
   "cell_type": "code",
   "execution_count": 4,
   "id": "private-research",
   "metadata": {
    "scrolled": true
   },
   "outputs": [
    {
     "name": "stdout",
     "output_type": "stream",
     "text": [
      "dataframeの各列のデータ型を確認==>\n",
      " <TICKER>         object\n",
      "<DTYYYYMMDD>      int64\n",
      "<TIME>            int64\n",
      "<OPEN>          float64\n",
      "<HIGH>          float64\n",
      "<LOW>           float64\n",
      "<CLOSE>         float64\n",
      "<VOL>             int64\n",
      "D                object\n",
      "T                object\n",
      "dtype: object\n"
     ]
    }
   ],
   "source": [
    "print('dataframeの各列のデータ型を確認==>\\n', EUR_JPY_M1.dtypes)"
   ]
  },
  {
   "cell_type": "code",
   "execution_count": 5,
   "id": "beautiful-dividend",
   "metadata": {
    "scrolled": true
   },
   "outputs": [
    {
     "name": "stdout",
     "output_type": "stream",
     "text": [
      "<class 'str'>\n"
     ]
    }
   ],
   "source": [
    "print(type(EUR_JPY_M1['T'][49]))"
   ]
  },
  {
   "cell_type": "code",
   "execution_count": 6,
   "id": "center-cleveland",
   "metadata": {},
   "outputs": [],
   "source": [
    "EUR_JPY_M1['YYYY'] = EUR_JPY_M1['D'].str[:4]\n",
    "EUR_JPY_M1['MM'] = EUR_JPY_M1['D'].str[4:6]\n",
    "EUR_JPY_M1['DD'] = EUR_JPY_M1['D'].str[6:8]\n",
    "EUR_JPY_M1['hh'] = EUR_JPY_M1['T'].str[-6:-4]\n",
    "EUR_JPY_M1['mm'] = EUR_JPY_M1['T'].str[-4:-2]\n",
    "EUR_JPY_M1['ss'] = EUR_JPY_M1['T'].str[-2:-0]\n",
    "#時間列に空白があるためいったんNaNに置き換える\n",
    "EUR_JPY_M1['hh'] = EUR_JPY_M1['hh'].replace(r'^\\s*$', np.nan, regex=True)\n",
    "EUR_JPY_M1['mm'] = EUR_JPY_M1['mm'].replace(r'^\\s*$', np.nan, regex=True)\n",
    "EUR_JPY_M1['ss'] = EUR_JPY_M1['ss'].replace(r'^\\s*$', np.nan, regex=True)\n",
    "#NaNを00に置き換え直す\n",
    "#EUR_JPY_M1 = EUR_JPY_M1.fillna({'hh': '00', 'mm': '00', 'ss': '00'})\n",
    "EUR_JPY_M1.fillna({'hh': '00', 'mm': '00', 'ss': '00'}, inplace=True)\n",
    "#EUR_JPY_M1.where(EUR_JPY_M1['ss'].notnull(), '00')\n",
    "#EUR_JPY_M1.fillna({'hh': '00', 'mm': '00', 'ss': '00'})\n",
    "#EUR_JPY_M1['hh'] = EUR_JPY_M1['hh'].str.replace('', '00')\n",
    "#EUR_JPY_M1['mm'] = EUR_JPY_M1['mm'].str.replace('', '00')\n",
    "#EUR_JPY_M1['ss'] = EUR_JPY_M1['ss'].str.replace(None, '00')\n",
    "#EUR_JPY_M1 =EUR_JPY_M1.drop('HH', axis=1)\n",
    "#EUR_JPY_M1 =EUR_JPY_M1.drop('SS', axis=1)"
   ]
  },
  {
   "cell_type": "code",
   "execution_count": 7,
   "id": "saved-consciousness",
   "metadata": {},
   "outputs": [],
   "source": [
    "#EUR_JPY_M1['<TICKER>']\n",
    "#pd.to_datetime(EUR_JPY_M1['<DTYYYYMMDD>'])\n",
    "#def conv(temp):\n",
    "#    H, M, S = map(int, temp.split(':'))\n",
    "#    return datetime.timedelta(hours=H, minutes=M, second=S)\n",
    "\n",
    "\n",
    "#EUR_JPY_M1['datetaime'] = EUR_JPY_M1['<DTYYYYMMDD>'] + EUR_JPY_M1['<TIME>'].apply(conv)\n",
    "#EUR_JPY_M1['<YYYYMMDDHHMM>'] = pd.to_datetime(EUR_JPY_M1['<DTYYYYMMDD>'].apply(str) +' '+EUR_JPY_M1['<TIME>'].apply(str), format='%Y%m%d %H:%M')\n",
    "#EUR_JPY_M1['<DT>'] = pd.to_datetime(EUR_JPY_M1['D'] +' '+EUR_JPY_M1['T'], format='%Y%m%d %H:%M')\n",
    "#EUR_JPY_M1['<DT>'] = pd.to_datetime(EUR_JPY_M1['D'] +' '+EUR_JPY_M1['T'])\n",
    "#EUR_JPY_M1['<DT>'] = pd.to_datetime(EUR_JPY_M1['YYYY'] + '/' + EUR_JPY_M1['MM'] + '/' + EUR_JPY_M1['DD'] + ' ' + EUR_JPY_M1['hh'] + ':' + EUR_JPY_M1['mm'] + ':' + EUR_JPY_M1['ss'])\n",
    "EUR_JPY_M1['DT'] = EUR_JPY_M1['YYYY'] + '/' + EUR_JPY_M1['MM'] + '/' + EUR_JPY_M1['DD'] + ' ' + EUR_JPY_M1['hh'] + ':' + EUR_JPY_M1['mm'] + ':' + EUR_JPY_M1['ss']\n",
    "#EUR_JPY_M1['datetime'] = pd.to_datetime(EUR_JPY_M1['D'] + ' ' + EUR_JPY_M1['T'].astype(str) + ':00', format='%Y-%m-%d %H:%M')\n",
    "#EUR_JPY_M1['datetime'] = pd.to_datetime(EUR_JPY_M1['D'] + ' ' + EUR_JPY_M1['T'].astype(str) + ':00', format='%Y-%m-%d %H:%M')"
   ]
  },
  {
   "cell_type": "code",
   "execution_count": 8,
   "id": "promotional-politics",
   "metadata": {
    "scrolled": false
   },
   "outputs": [
    {
     "data": {
      "text/plain": [
       "<TICKER>        0\n",
       "<DTYYYYMMDD>    0\n",
       "<TIME>          0\n",
       "<OPEN>          0\n",
       "<HIGH>          0\n",
       "<LOW>           0\n",
       "<CLOSE>         0\n",
       "<VOL>           0\n",
       "D               0\n",
       "T               0\n",
       "YYYY            0\n",
       "MM              0\n",
       "DD              0\n",
       "hh              0\n",
       "mm              0\n",
       "ss              0\n",
       "DT              0\n",
       "dtype: int64"
      ]
     },
     "execution_count": 8,
     "metadata": {},
     "output_type": "execute_result"
    }
   ],
   "source": [
    "EUR_JPY_M1.isnull().sum()"
   ]
  },
  {
   "cell_type": "code",
   "execution_count": 9,
   "id": "essential-denmark",
   "metadata": {},
   "outputs": [],
   "source": [
    "#pd.get_option(\"display.max_rows\")\n",
    "#pd.set_option('display.max_rows', 500)"
   ]
  },
  {
   "cell_type": "code",
   "execution_count": 10,
   "id": "multiple-thailand",
   "metadata": {},
   "outputs": [],
   "source": [
    "#EUR_JPY_M1['hh'][49].isnull()"
   ]
  },
  {
   "cell_type": "code",
   "execution_count": 11,
   "id": "norwegian-guinea",
   "metadata": {},
   "outputs": [],
   "source": [
    "EUR_JPY_M1 = EUR_JPY_M1.set_index('DT')\n",
    "EUR_JPY_M1 = EUR_JPY_M1.rename(columns={'<OPEN>': 'EURJPYOPEN', '<HIGH>': 'EURJPYHIGH', '<LOW>': 'EURJPYLOW', '<CLOSE>': 'EURJPYCLOSE', '<VOL>': 'EURJPYVOL'})\n",
    "EUR_JPY_M1 = EUR_JPY_M1.drop(['<TICKER>', '<DTYYYYMMDD>', '<TIME>', 'D', 'T', 'YYYY', 'MM', 'DD', 'hh', 'mm', 'ss'], axis=1)"
   ]
  },
  {
   "cell_type": "code",
   "execution_count": 34,
   "id": "straight-bradford",
   "metadata": {},
   "outputs": [
    {
     "name": "stdout",
     "output_type": "stream",
     "text": [
      "object\n"
     ]
    }
   ],
   "source": [
    "print(EUR_JPY_M1.index.dtype)"
   ]
  },
  {
   "cell_type": "code",
   "execution_count": 13,
   "id": "resident-ability",
   "metadata": {},
   "outputs": [
    {
     "data": {
      "text/plain": [
       "EURJPYOPEN     0\n",
       "EURJPYHIGH     0\n",
       "EURJPYLOW      0\n",
       "EURJPYCLOSE    0\n",
       "EURJPYVOL      0\n",
       "dtype: int64"
      ]
     },
     "execution_count": 13,
     "metadata": {},
     "output_type": "execute_result"
    }
   ],
   "source": [
    "EUR_JPY_M1.isnull().sum()"
   ]
  },
  {
   "cell_type": "code",
   "execution_count": 14,
   "id": "international-boxing",
   "metadata": {},
   "outputs": [],
   "source": [
    "EUR_USD_M1 = pd.read_csv('./data/EUR_USD200101022301-202012312359_M1.csv')\n",
    "EUR_USD_M1['D'] = EUR_USD_M1['<DTYYYYMMDD>'].apply(str)\n",
    "EUR_USD_M1['T'] = EUR_USD_M1['<TIME>'].apply(str)\n",
    "EUR_USD_M1['YYYY'] = EUR_USD_M1['D'].str[:4]\n",
    "EUR_USD_M1['MM'] = EUR_USD_M1['D'].str[4:6]\n",
    "EUR_USD_M1['DD'] = EUR_USD_M1['D'].str[6:8]\n",
    "EUR_USD_M1['hh'] = EUR_USD_M1['T'].str[-6:-4]\n",
    "EUR_USD_M1['mm'] = EUR_USD_M1['T'].str[-4:-2]\n",
    "EUR_USD_M1['ss'] = EUR_USD_M1['T'].str[-2:-0]\n",
    "#時間列に空白があるためいったんNaNに置き換える\n",
    "EUR_USD_M1['hh'] = EUR_USD_M1['hh'].replace(r'^\\s*$', np.nan, regex=True)\n",
    "EUR_USD_M1['mm'] = EUR_USD_M1['mm'].replace(r'^\\s*$', np.nan, regex=True)\n",
    "EUR_USD_M1['ss'] = EUR_USD_M1['ss'].replace(r'^\\s*$', np.nan, regex=True)\n",
    "#NaNを00に置き換え直す\n",
    "#EUR_JPY_M1 = EUR_JPY_M1.fillna({'hh': '00', 'mm': '00', 'ss': '00'})\n",
    "EUR_USD_M1.fillna({'hh': '00', 'mm': '00', 'ss': '00'}, inplace=True)\n",
    "EUR_USD_M1['DT'] = EUR_USD_M1['YYYY'] + '/' + EUR_USD_M1['MM'] + '/' + EUR_USD_M1['DD'] + ' ' + EUR_USD_M1['hh'] + ':' + EUR_USD_M1['mm'] + ':' + EUR_USD_M1['ss']\n",
    "EUR_USD_M1 = EUR_USD_M1.set_index('DT')\n",
    "EUR_USD_M1 = EUR_USD_M1.rename(columns={'<OPEN>': 'EURJPYOPEN', '<HIGH>': 'EURJPYHIGH', '<LOW>': 'EURJPYLOW', '<CLOSE>': 'EURJPYCLOSE', '<VOL>': 'EURJPYVOL'})\n",
    "EUR_USD_M1 = EUR_USD_M1.rename(columns={'EURJPYOPEN': 'EURUSDOPEN', 'EURJPYHIGH': 'EURUSDHIGH', 'EURJPYLOW': 'EURUSDLOW', 'EURJPYCLOSE': 'EURUSDCLOSE', 'EURJPYVOL': 'EURUSDVOL'})\n",
    "EUR_USD_M1 = EUR_USD_M1.drop(['<TICKER>', '<DTYYYYMMDD>', '<TIME>', 'D', 'T', 'YYYY', 'MM', 'DD', 'hh', 'mm', 'ss'], axis=1)"
   ]
  },
  {
   "cell_type": "code",
   "execution_count": 15,
   "id": "executed-husband",
   "metadata": {},
   "outputs": [
    {
     "data": {
      "text/html": [
       "<div>\n",
       "<style scoped>\n",
       "    .dataframe tbody tr th:only-of-type {\n",
       "        vertical-align: middle;\n",
       "    }\n",
       "\n",
       "    .dataframe tbody tr th {\n",
       "        vertical-align: top;\n",
       "    }\n",
       "\n",
       "    .dataframe thead th {\n",
       "        text-align: right;\n",
       "    }\n",
       "</style>\n",
       "<table border=\"1\" class=\"dataframe\">\n",
       "  <thead>\n",
       "    <tr style=\"text-align: right;\">\n",
       "      <th></th>\n",
       "      <th>EURUSDOPEN</th>\n",
       "      <th>EURUSDHIGH</th>\n",
       "      <th>EURUSDLOW</th>\n",
       "      <th>EURUSDCLOSE</th>\n",
       "      <th>EURUSDVOL</th>\n",
       "    </tr>\n",
       "    <tr>\n",
       "      <th>DT</th>\n",
       "      <th></th>\n",
       "      <th></th>\n",
       "      <th></th>\n",
       "      <th></th>\n",
       "      <th></th>\n",
       "    </tr>\n",
       "  </thead>\n",
       "  <tbody>\n",
       "    <tr>\n",
       "      <th>2001/01/02 23:01:00</th>\n",
       "      <td>0.9507</td>\n",
       "      <td>0.9507</td>\n",
       "      <td>0.9507</td>\n",
       "      <td>0.9507</td>\n",
       "      <td>4</td>\n",
       "    </tr>\n",
       "    <tr>\n",
       "      <th>2001/01/02 23:02:00</th>\n",
       "      <td>0.9506</td>\n",
       "      <td>0.9506</td>\n",
       "      <td>0.9505</td>\n",
       "      <td>0.9505</td>\n",
       "      <td>4</td>\n",
       "    </tr>\n",
       "    <tr>\n",
       "      <th>2001/01/02 23:03:00</th>\n",
       "      <td>0.9505</td>\n",
       "      <td>0.9507</td>\n",
       "      <td>0.9505</td>\n",
       "      <td>0.9506</td>\n",
       "      <td>4</td>\n",
       "    </tr>\n",
       "    <tr>\n",
       "      <th>2001/01/02 23:04:00</th>\n",
       "      <td>0.9506</td>\n",
       "      <td>0.9506</td>\n",
       "      <td>0.9506</td>\n",
       "      <td>0.9506</td>\n",
       "      <td>4</td>\n",
       "    </tr>\n",
       "    <tr>\n",
       "      <th>2001/01/02 23:05:00</th>\n",
       "      <td>0.9506</td>\n",
       "      <td>0.9506</td>\n",
       "      <td>0.9506</td>\n",
       "      <td>0.9506</td>\n",
       "      <td>4</td>\n",
       "    </tr>\n",
       "    <tr>\n",
       "      <th>...</th>\n",
       "      <td>...</td>\n",
       "      <td>...</td>\n",
       "      <td>...</td>\n",
       "      <td>...</td>\n",
       "      <td>...</td>\n",
       "    </tr>\n",
       "    <tr>\n",
       "      <th>2020/12/31 23:55:00</th>\n",
       "      <td>1.2215</td>\n",
       "      <td>1.2215</td>\n",
       "      <td>1.2215</td>\n",
       "      <td>1.2215</td>\n",
       "      <td>4</td>\n",
       "    </tr>\n",
       "    <tr>\n",
       "      <th>2020/12/31 23:56:00</th>\n",
       "      <td>1.2215</td>\n",
       "      <td>1.2215</td>\n",
       "      <td>1.2215</td>\n",
       "      <td>1.2215</td>\n",
       "      <td>4</td>\n",
       "    </tr>\n",
       "    <tr>\n",
       "      <th>2020/12/31 23:57:00</th>\n",
       "      <td>1.2215</td>\n",
       "      <td>1.2215</td>\n",
       "      <td>1.2215</td>\n",
       "      <td>1.2215</td>\n",
       "      <td>4</td>\n",
       "    </tr>\n",
       "    <tr>\n",
       "      <th>2020/12/31 23:58:00</th>\n",
       "      <td>1.2215</td>\n",
       "      <td>1.2215</td>\n",
       "      <td>1.2215</td>\n",
       "      <td>1.2215</td>\n",
       "      <td>4</td>\n",
       "    </tr>\n",
       "    <tr>\n",
       "      <th>2020/12/31 23:59:00</th>\n",
       "      <td>1.2215</td>\n",
       "      <td>1.2215</td>\n",
       "      <td>1.2215</td>\n",
       "      <td>1.2215</td>\n",
       "      <td>4</td>\n",
       "    </tr>\n",
       "  </tbody>\n",
       "</table>\n",
       "<p>7078068 rows × 5 columns</p>\n",
       "</div>"
      ],
      "text/plain": [
       "                     EURUSDOPEN  EURUSDHIGH  EURUSDLOW  EURUSDCLOSE  EURUSDVOL\n",
       "DT                                                                            \n",
       "2001/01/02 23:01:00      0.9507      0.9507     0.9507       0.9507          4\n",
       "2001/01/02 23:02:00      0.9506      0.9506     0.9505       0.9505          4\n",
       "2001/01/02 23:03:00      0.9505      0.9507     0.9505       0.9506          4\n",
       "2001/01/02 23:04:00      0.9506      0.9506     0.9506       0.9506          4\n",
       "2001/01/02 23:05:00      0.9506      0.9506     0.9506       0.9506          4\n",
       "...                         ...         ...        ...          ...        ...\n",
       "2020/12/31 23:55:00      1.2215      1.2215     1.2215       1.2215          4\n",
       "2020/12/31 23:56:00      1.2215      1.2215     1.2215       1.2215          4\n",
       "2020/12/31 23:57:00      1.2215      1.2215     1.2215       1.2215          4\n",
       "2020/12/31 23:58:00      1.2215      1.2215     1.2215       1.2215          4\n",
       "2020/12/31 23:59:00      1.2215      1.2215     1.2215       1.2215          4\n",
       "\n",
       "[7078068 rows x 5 columns]"
      ]
     },
     "execution_count": 15,
     "metadata": {},
     "output_type": "execute_result"
    }
   ],
   "source": [
    "EUR_USD_M1"
   ]
  },
  {
   "cell_type": "code",
   "execution_count": 16,
   "id": "needed-calvin",
   "metadata": {},
   "outputs": [
    {
     "data": {
      "text/plain": [
       "EURUSDOPEN     0\n",
       "EURUSDHIGH     0\n",
       "EURUSDLOW      0\n",
       "EURUSDCLOSE    0\n",
       "EURUSDVOL      0\n",
       "dtype: int64"
      ]
     },
     "execution_count": 16,
     "metadata": {},
     "output_type": "execute_result"
    }
   ],
   "source": [
    "EUR_USD_M1.isnull().sum()"
   ]
  },
  {
   "cell_type": "code",
   "execution_count": 17,
   "id": "voluntary-craft",
   "metadata": {},
   "outputs": [],
   "source": [
    "USD_JPY_M1 = pd.read_csv('./data/USD_JPY200101022303-202012312359_M1.csv')\n",
    "USD_JPY_M1['D'] = USD_JPY_M1['<DTYYYYMMDD>'].apply(str)\n",
    "USD_JPY_M1['T'] = USD_JPY_M1['<TIME>'].apply(str)\n",
    "USD_JPY_M1['YYYY'] = USD_JPY_M1['D'].str[:4]\n",
    "USD_JPY_M1['MM'] = USD_JPY_M1['D'].str[4:6]\n",
    "USD_JPY_M1['DD'] = USD_JPY_M1['D'].str[6:8]\n",
    "USD_JPY_M1['hh'] = USD_JPY_M1['T'].str[-6:-4]\n",
    "USD_JPY_M1['mm'] = USD_JPY_M1['T'].str[-4:-2]\n",
    "USD_JPY_M1['ss'] = USD_JPY_M1['T'].str[-2:-0]\n",
    "#時間列に空白があるためいったんNaNに置き換える\n",
    "USD_JPY_M1['hh'] = USD_JPY_M1['hh'].replace(r'^\\s*$', np.nan, regex=True)\n",
    "USD_JPY_M1['mm'] = USD_JPY_M1['mm'].replace(r'^\\s*$', np.nan, regex=True)\n",
    "USD_JPY_M1['ss'] = USD_JPY_M1['ss'].replace(r'^\\s*$', np.nan, regex=True)\n",
    "#NaNを00に置き換え直す\n",
    "#EUR_JPY_M1 = EUR_JPY_M1.fillna({'hh': '00', 'mm': '00', 'ss': '00'})\n",
    "USD_JPY_M1.fillna({'hh': '00', 'mm': '00', 'ss': '00'}, inplace=True)\n",
    "USD_JPY_M1['DT'] = USD_JPY_M1['YYYY'] + '/' + USD_JPY_M1['MM'] + '/' + USD_JPY_M1['DD'] + ' ' + USD_JPY_M1['hh'] + ':' + USD_JPY_M1['mm'] + ':' + USD_JPY_M1['ss']\n",
    "USD_JPY_M1 = USD_JPY_M1.set_index('DT')\n",
    "USD_JPY_M1 = USD_JPY_M1.rename(columns={'<OPEN>': 'USDJPYOPEN', '<HIGH>': 'USDJPYHIGH', '<LOW>': 'USDJPYLOW', '<CLOSE>': 'USDJPYCLOSE', '<VOL>': 'USDJPYVOL'})\n",
    "USD_JPY_M1 = USD_JPY_M1.drop(['<TICKER>', '<DTYYYYMMDD>', '<TIME>', 'D', 'T', 'YYYY', 'MM', 'DD', 'hh', 'mm', 'ss'], axis=1)"
   ]
  },
  {
   "cell_type": "code",
   "execution_count": 33,
   "id": "descending-mounting",
   "metadata": {},
   "outputs": [
    {
     "data": {
      "text/plain": [
       "Index(['2001/01/02 23:03:00', '2001/01/02 23:04:00', '2001/01/02 23:05:00',\n",
       "       '2001/01/02 23:07:00', '2001/01/02 23:08:00', '2001/01/02 23:09:00',\n",
       "       '2001/01/02 23:11:00', '2001/01/02 23:12:00', '2001/01/02 23:13:00',\n",
       "       '2001/01/02 23:14:00',\n",
       "       ...\n",
       "       '2020/12/31 23:50:00', '2020/12/31 23:51:00', '2020/12/31 23:52:00',\n",
       "       '2020/12/31 23:53:00', '2020/12/31 23:54:00', '2020/12/31 23:55:00',\n",
       "       '2020/12/31 23:56:00', '2020/12/31 23:57:00', '2020/12/31 23:58:00',\n",
       "       '2020/12/31 23:59:00'],\n",
       "      dtype='object', name='DT', length=7090995)"
      ]
     },
     "execution_count": 33,
     "metadata": {},
     "output_type": "execute_result"
    }
   ],
   "source": [
    "USD_JPY_M1.index"
   ]
  },
  {
   "cell_type": "code",
   "execution_count": 19,
   "id": "efficient-vegetarian",
   "metadata": {},
   "outputs": [
    {
     "data": {
      "text/plain": [
       "USDJPYOPEN     0\n",
       "USDJPYHIGH     0\n",
       "USDJPYLOW      0\n",
       "USDJPYCLOSE    0\n",
       "USDJPYVOL      0\n",
       "dtype: int64"
      ]
     },
     "execution_count": 19,
     "metadata": {},
     "output_type": "execute_result"
    }
   ],
   "source": [
    "USD_JPY_M1.isnull().sum()"
   ]
  },
  {
   "cell_type": "code",
   "execution_count": 20,
   "id": "educated-remove",
   "metadata": {},
   "outputs": [],
   "source": [
    "#pd.DataFrame({\"日付\": [pd.to_datetime(\"2018-2-14\") + timedelta(days=i) for i in range(5)]})\n",
    "DT_all = pd.DataFrame(index=pd.date_range(start='2001/01/02 23:01:00', end='2020/12/31 23:59:00', freq='T'))\n",
    "#DT = pd.date_range(start='2001/01/02 23:01:00', end='2001/01/02 23:01:00', freq='M')\n",
    "#M1 = dataframe(range(5), index=DT)"
   ]
  },
  {
   "cell_type": "code",
   "execution_count": 32,
   "id": "signed-uganda",
   "metadata": {},
   "outputs": [
    {
     "data": {
      "text/plain": [
       "DatetimeIndex(['2001-01-02 23:01:00', '2001-01-02 23:02:00',\n",
       "               '2001-01-02 23:03:00', '2001-01-02 23:04:00',\n",
       "               '2001-01-02 23:05:00', '2001-01-02 23:06:00',\n",
       "               '2001-01-02 23:07:00', '2001-01-02 23:08:00',\n",
       "               '2001-01-02 23:09:00', '2001-01-02 23:10:00',\n",
       "               ...\n",
       "               '2020-12-31 23:50:00', '2020-12-31 23:51:00',\n",
       "               '2020-12-31 23:52:00', '2020-12-31 23:53:00',\n",
       "               '2020-12-31 23:54:00', '2020-12-31 23:55:00',\n",
       "               '2020-12-31 23:56:00', '2020-12-31 23:57:00',\n",
       "               '2020-12-31 23:58:00', '2020-12-31 23:59:00'],\n",
       "              dtype='datetime64[ns]', length=10516379, freq='T')"
      ]
     },
     "execution_count": 32,
     "metadata": {},
     "output_type": "execute_result"
    }
   ],
   "source": [
    "DT_all.index"
   ]
  },
  {
   "cell_type": "code",
   "execution_count": 22,
   "id": "cosmetic-absence",
   "metadata": {},
   "outputs": [
    {
     "ename": "ValueError",
     "evalue": "You are trying to merge on datetime64[ns] and object columns. If you wish to proceed you should use pd.concat",
     "output_type": "error",
     "traceback": [
      "\u001b[1;31m---------------------------------------------------------------------------\u001b[0m",
      "\u001b[1;31mValueError\u001b[0m                                Traceback (most recent call last)",
      "\u001b[1;32m<ipython-input-22-0ea15285243e>\u001b[0m in \u001b[0;36m<module>\u001b[1;34m\u001b[0m\n\u001b[0;32m      1\u001b[0m \u001b[1;31m#DT_concat = pd.concat([DT, EUR_JPY_M1], axis=1).reindex(DT.index)#, EUR_USD_M1, USD_JPY_M1\u001b[0m\u001b[1;33m\u001b[0m\u001b[1;33m\u001b[0m\u001b[1;33m\u001b[0m\u001b[0m\n\u001b[1;32m----> 2\u001b[1;33m \u001b[0mDT_concat\u001b[0m \u001b[1;33m=\u001b[0m \u001b[0mpd\u001b[0m\u001b[1;33m.\u001b[0m\u001b[0mmerge\u001b[0m\u001b[1;33m(\u001b[0m\u001b[0mDT_all\u001b[0m\u001b[1;33m,\u001b[0m \u001b[0mEUR_JPY_M1\u001b[0m\u001b[1;33m,\u001b[0m \u001b[0mleft_index\u001b[0m\u001b[1;33m=\u001b[0m\u001b[1;32mTrue\u001b[0m\u001b[1;33m,\u001b[0m \u001b[0mright_on\u001b[0m\u001b[1;33m=\u001b[0m\u001b[1;34m'DT'\u001b[0m\u001b[1;33m)\u001b[0m\u001b[1;33m\u001b[0m\u001b[1;33m\u001b[0m\u001b[0m\n\u001b[0m",
      "\u001b[1;32m~\\anaconda3\\envs\\keras-cpu\\lib\\site-packages\\pandas\\core\\reshape\\merge.py\u001b[0m in \u001b[0;36mmerge\u001b[1;34m(left, right, how, on, left_on, right_on, left_index, right_index, sort, suffixes, copy, indicator, validate)\u001b[0m\n\u001b[0;32m     85\u001b[0m         \u001b[0mcopy\u001b[0m\u001b[1;33m=\u001b[0m\u001b[0mcopy\u001b[0m\u001b[1;33m,\u001b[0m\u001b[1;33m\u001b[0m\u001b[1;33m\u001b[0m\u001b[0m\n\u001b[0;32m     86\u001b[0m         \u001b[0mindicator\u001b[0m\u001b[1;33m=\u001b[0m\u001b[0mindicator\u001b[0m\u001b[1;33m,\u001b[0m\u001b[1;33m\u001b[0m\u001b[1;33m\u001b[0m\u001b[0m\n\u001b[1;32m---> 87\u001b[1;33m         \u001b[0mvalidate\u001b[0m\u001b[1;33m=\u001b[0m\u001b[0mvalidate\u001b[0m\u001b[1;33m,\u001b[0m\u001b[1;33m\u001b[0m\u001b[1;33m\u001b[0m\u001b[0m\n\u001b[0m\u001b[0;32m     88\u001b[0m     )\n\u001b[0;32m     89\u001b[0m     \u001b[1;32mreturn\u001b[0m \u001b[0mop\u001b[0m\u001b[1;33m.\u001b[0m\u001b[0mget_result\u001b[0m\u001b[1;33m(\u001b[0m\u001b[1;33m)\u001b[0m\u001b[1;33m\u001b[0m\u001b[1;33m\u001b[0m\u001b[0m\n",
      "\u001b[1;32m~\\anaconda3\\envs\\keras-cpu\\lib\\site-packages\\pandas\\core\\reshape\\merge.py\u001b[0m in \u001b[0;36m__init__\u001b[1;34m(self, left, right, how, on, left_on, right_on, axis, left_index, right_index, sort, suffixes, copy, indicator, validate)\u001b[0m\n\u001b[0;32m    654\u001b[0m         \u001b[1;31m# validate the merge keys dtypes. We may need to coerce\u001b[0m\u001b[1;33m\u001b[0m\u001b[1;33m\u001b[0m\u001b[1;33m\u001b[0m\u001b[0m\n\u001b[0;32m    655\u001b[0m         \u001b[1;31m# to avoid incompatible dtypes\u001b[0m\u001b[1;33m\u001b[0m\u001b[1;33m\u001b[0m\u001b[1;33m\u001b[0m\u001b[0m\n\u001b[1;32m--> 656\u001b[1;33m         \u001b[0mself\u001b[0m\u001b[1;33m.\u001b[0m\u001b[0m_maybe_coerce_merge_keys\u001b[0m\u001b[1;33m(\u001b[0m\u001b[1;33m)\u001b[0m\u001b[1;33m\u001b[0m\u001b[1;33m\u001b[0m\u001b[0m\n\u001b[0m\u001b[0;32m    657\u001b[0m \u001b[1;33m\u001b[0m\u001b[0m\n\u001b[0;32m    658\u001b[0m         \u001b[1;31m# If argument passed to validate,\u001b[0m\u001b[1;33m\u001b[0m\u001b[1;33m\u001b[0m\u001b[1;33m\u001b[0m\u001b[0m\n",
      "\u001b[1;32m~\\anaconda3\\envs\\keras-cpu\\lib\\site-packages\\pandas\\core\\reshape\\merge.py\u001b[0m in \u001b[0;36m_maybe_coerce_merge_keys\u001b[1;34m(self)\u001b[0m\n\u001b[0;32m   1167\u001b[0m             \u001b[1;31m# datetimelikes must match exactly\u001b[0m\u001b[1;33m\u001b[0m\u001b[1;33m\u001b[0m\u001b[1;33m\u001b[0m\u001b[0m\n\u001b[0;32m   1168\u001b[0m             \u001b[1;32melif\u001b[0m \u001b[0mneeds_i8_conversion\u001b[0m\u001b[1;33m(\u001b[0m\u001b[0mlk\u001b[0m\u001b[1;33m.\u001b[0m\u001b[0mdtype\u001b[0m\u001b[1;33m)\u001b[0m \u001b[1;32mand\u001b[0m \u001b[1;32mnot\u001b[0m \u001b[0mneeds_i8_conversion\u001b[0m\u001b[1;33m(\u001b[0m\u001b[0mrk\u001b[0m\u001b[1;33m.\u001b[0m\u001b[0mdtype\u001b[0m\u001b[1;33m)\u001b[0m\u001b[1;33m:\u001b[0m\u001b[1;33m\u001b[0m\u001b[1;33m\u001b[0m\u001b[0m\n\u001b[1;32m-> 1169\u001b[1;33m                 \u001b[1;32mraise\u001b[0m \u001b[0mValueError\u001b[0m\u001b[1;33m(\u001b[0m\u001b[0mmsg\u001b[0m\u001b[1;33m)\u001b[0m\u001b[1;33m\u001b[0m\u001b[1;33m\u001b[0m\u001b[0m\n\u001b[0m\u001b[0;32m   1170\u001b[0m             \u001b[1;32melif\u001b[0m \u001b[1;32mnot\u001b[0m \u001b[0mneeds_i8_conversion\u001b[0m\u001b[1;33m(\u001b[0m\u001b[0mlk\u001b[0m\u001b[1;33m.\u001b[0m\u001b[0mdtype\u001b[0m\u001b[1;33m)\u001b[0m \u001b[1;32mand\u001b[0m \u001b[0mneeds_i8_conversion\u001b[0m\u001b[1;33m(\u001b[0m\u001b[0mrk\u001b[0m\u001b[1;33m.\u001b[0m\u001b[0mdtype\u001b[0m\u001b[1;33m)\u001b[0m\u001b[1;33m:\u001b[0m\u001b[1;33m\u001b[0m\u001b[1;33m\u001b[0m\u001b[0m\n\u001b[0;32m   1171\u001b[0m                 \u001b[1;32mraise\u001b[0m \u001b[0mValueError\u001b[0m\u001b[1;33m(\u001b[0m\u001b[0mmsg\u001b[0m\u001b[1;33m)\u001b[0m\u001b[1;33m\u001b[0m\u001b[1;33m\u001b[0m\u001b[0m\n",
      "\u001b[1;31mValueError\u001b[0m: You are trying to merge on datetime64[ns] and object columns. If you wish to proceed you should use pd.concat"
     ]
    }
   ],
   "source": [
    "#DT_concat = pd.concat([DT, EUR_JPY_M1], axis=1).reindex(DT.index)#, EUR_USD_M1, USD_JPY_M1\n",
    "DT_concat = pd.merge(DT_all, EUR_JPY_M1, left_index=True, right_on='DT')"
   ]
  },
  {
   "cell_type": "code",
   "execution_count": null,
   "id": "prescribed-magnet",
   "metadata": {},
   "outputs": [],
   "source": [
    "DT_concat[49:98]"
   ]
  },
  {
   "cell_type": "code",
   "execution_count": null,
   "id": "passing-place",
   "metadata": {},
   "outputs": [],
   "source": [
    "#merge_EUR_JPY_M1_EUR_USD_M1 = pd.merge(EUR_JPY_M1, EUR_USD_M1, on='DT', how='outer')"
   ]
  },
  {
   "cell_type": "code",
   "execution_count": null,
   "id": "opening-literacy",
   "metadata": {},
   "outputs": [],
   "source": [
    "#merge_EUR_JPY_M1_EUR_USD_M1_USD_JPY_M1 = pd.merge(merge_EUR_JPY_M1_EUR_USD_M1, USD_JPY_M1, on='DT', how='outer')"
   ]
  },
  {
   "cell_type": "code",
   "execution_count": null,
   "id": "accurate-scott",
   "metadata": {},
   "outputs": [],
   "source": [
    "#merge_EUR_JPY_M1_EUR_USD_M1_USD_JPY_M1"
   ]
  },
  {
   "cell_type": "code",
   "execution_count": null,
   "id": "younger-greece",
   "metadata": {},
   "outputs": [],
   "source": [
    "#merge_EUR_JPY_M1_EUR_USD_M1_USD_JPY_M1.isnull().sum()"
   ]
  },
  {
   "cell_type": "code",
   "execution_count": null,
   "id": "headed-monkey",
   "metadata": {},
   "outputs": [],
   "source": [
    "#df.sort_index(axis=1, ascending=False)"
   ]
  }
 ],
 "metadata": {
  "kernelspec": {
   "display_name": "Python 3",
   "language": "python",
   "name": "python3"
  },
  "language_info": {
   "codemirror_mode": {
    "name": "ipython",
    "version": 3
   },
   "file_extension": ".py",
   "mimetype": "text/x-python",
   "name": "python",
   "nbconvert_exporter": "python",
   "pygments_lexer": "ipython3",
   "version": "3.6.12"
  }
 },
 "nbformat": 4,
 "nbformat_minor": 5
}
