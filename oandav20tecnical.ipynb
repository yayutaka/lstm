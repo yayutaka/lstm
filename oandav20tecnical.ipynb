{
 "cells": [
  {
   "cell_type": "code",
   "execution_count": 9,
   "metadata": {},
   "outputs": [],
   "source": [
    "# API接続設定のファイルを読み込む\n",
    "import configparser\n",
    "\n",
    "# 設定\n",
    "config = configparser.ConfigParser()\n",
    "config.read('./config_v1.txt') # パスの指定が必要です\n",
    "account_ID = config['oanda']['account_id']\n",
    "api_key = config['oanda']['api_key']"
   ]
  },
  {
   "cell_type": "code",
   "execution_count": 10,
   "metadata": {},
   "outputs": [],
   "source": [
    "import datetime\n",
    "import pandas\n",
    "from oandapyV20 import API\n",
    "import oandapyV20.endpoints.instruments as oandapy\n",
    "\n",
    "start        = datetime.datetime(year=2020,month=12,day=1)\n",
    "minutes      = 150 # 150分取得\n",
    "start        = start.strftime(\"%Y-%m-%dT%H:%M:00.000000Z\")\n",
    "#access_token = \"XXXXXXXXXXXXXXXXXXXXXXXXXXXXXXXXXXXXXXXXXXXXXXXXXXXX\"\n",
    "api          = API(access_token = api_key, environment=\"practice\")\n",
    "request      = oandapy.InstrumentsCandles(instrument = \"USD_JPY\",\n",
    "               params = { \"alignmentTimezone\": \"Japan\", \"from\": start, \"count\": minutes, \"granularity\": \"M1\" })\n",
    "api.request(request)\n",
    "\n",
    "filename = \"candle.csv\"\n",
    "candle = pandas.DataFrame.from_dict([ row['mid'] for row in request.response['candles'] ])\n",
    "candle['time'] = [ row['time'] for row in request.response['candles'] ]\n",
    "candle.to_csv(filename)"
   ]
  },
  {
   "cell_type": "code",
   "execution_count": 11,
   "metadata": {},
   "outputs": [
    {
     "ename": "ModuleNotFoundError",
     "evalue": "No module named 'matplotlib.finance'",
     "output_type": "error",
     "traceback": [
      "\u001b[1;31m---------------------------------------------------------------------------\u001b[0m",
      "\u001b[1;31mModuleNotFoundError\u001b[0m                       Traceback (most recent call last)",
      "\u001b[1;32m<ipython-input-11-b0305c9e190b>\u001b[0m in \u001b[0;36m<module>\u001b[1;34m\u001b[0m\n\u001b[0;32m      2\u001b[0m \u001b[1;32mimport\u001b[0m \u001b[0mseaborn\u001b[0m\u001b[1;33m\u001b[0m\u001b[1;33m\u001b[0m\u001b[0m\n\u001b[0;32m      3\u001b[0m \u001b[1;32mimport\u001b[0m \u001b[0mmatplotlib\u001b[0m\u001b[1;33m.\u001b[0m\u001b[0mpyplot\u001b[0m \u001b[1;32mas\u001b[0m \u001b[0mplt\u001b[0m\u001b[1;33m\u001b[0m\u001b[1;33m\u001b[0m\u001b[0m\n\u001b[1;32m----> 4\u001b[1;33m \u001b[1;32mfrom\u001b[0m \u001b[0mmatplotlib\u001b[0m\u001b[1;33m.\u001b[0m\u001b[0mfinance\u001b[0m \u001b[1;32mimport\u001b[0m \u001b[0mcandlestick2_ohlc\u001b[0m \u001b[1;32mas\u001b[0m \u001b[0mplt_candle\u001b[0m\u001b[1;33m\u001b[0m\u001b[1;33m\u001b[0m\u001b[0m\n\u001b[0m\u001b[0;32m      5\u001b[0m \u001b[0mseaborn\u001b[0m\u001b[1;33m.\u001b[0m\u001b[0mset_style\u001b[0m\u001b[1;33m(\u001b[0m\u001b[1;34m\"whitegrid\"\u001b[0m\u001b[1;33m)\u001b[0m\u001b[1;33m\u001b[0m\u001b[1;33m\u001b[0m\u001b[0m\n\u001b[0;32m      6\u001b[0m \u001b[1;33m\u001b[0m\u001b[0m\n",
      "\u001b[1;31mModuleNotFoundError\u001b[0m: No module named 'matplotlib.finance'"
     ]
    }
   ],
   "source": [
    "#matplotlib.financeで作られていて参考にならない\n",
    "import pandas\n",
    "import seaborn\n",
    "import matplotlib.pyplot as plt\n",
    "from matplotlib.finance import candlestick2_ohlc as plt_candle\n",
    "seaborn.set_style(\"whitegrid\")\n",
    "\n",
    "# csvを読み込む\n",
    "candle = pandas.read_csv('candle.csv')\n",
    "\n",
    "# 移動平均とボラティリティを求める\n",
    "window_size  = 5 #5分移動平均を求める\n",
    "avg_move     = pandas.Series.rolling(candle.c, window = window_size).mean().dropna().reset_index(drop = True)\n",
    "sigma        = pandas.Series.rolling(candle.c, window = window_size).std(ddof = 0).dropna().reset_index(drop = True)\n",
    "sigma_plus1  = avg_move + sigma\n",
    "sigma_plus2  = avg_move + sigma * 2\n",
    "sigma_plus3  = avg_move + sigma * 3\n",
    "sigma_minus1 = avg_move - sigma\n",
    "sigma_minus2 = avg_move - sigma * 2\n",
    "sigma_minus3 = avg_move - sigma * 3\n",
    "\n",
    "candle = candle[window_size:].reset_index(drop = True)\n",
    "\n",
    "# X軸の見た目を整える\n",
    "# 時間だけを切り出すために先頭からの12文字目から取るようにしている\n",
    "xticks_number = 15 #15分刻みに目盛りを書く\n",
    "xticks_index = range(0,len(candle), xticks_number)\n",
    "xticks_date = [candle.time.values[i][11:16] for i in xticks_index]\n",
    "\n",
    "figure, ax = plt.subplots()\n",
    "plt_candle( ax,\n",
    "            opens = candle.o.values,\n",
    "            highs = candle.h.values,\n",
    "            lows = candle.l.values,\n",
    "            closes = candle.c.values,\n",
    "            width=0.6,\n",
    "            colorup='#DC143C',\n",
    "            colordown='#4169E1')\n",
    "plt.plot(avg_move, color='#006400')\n",
    "plt.plot(sigma_plus1, color='#3CB371')\n",
    "plt.plot(sigma_plus2, color='#9ACD32')\n",
    "plt.plot(sigma_plus3, color='#ADFF2F')\n",
    "plt.plot(sigma_minus1, color='#3CB371')\n",
    "plt.plot(sigma_minus2, color='#9ACD32')\n",
    "plt.plot(sigma_minus3, color='#ADFF2F')\n",
    "plt.xticks(xticks_index, xticks_date, rotation=80)\n",
    "plt.show()"
   ]
  },
  {
   "cell_type": "code",
   "execution_count": null,
   "metadata": {},
   "outputs": [],
   "source": []
  }
 ],
 "metadata": {
  "kernelspec": {
   "display_name": "Python 3",
   "language": "python",
   "name": "python3"
  },
  "language_info": {
   "codemirror_mode": {
    "name": "ipython",
    "version": 3
   },
   "file_extension": ".py",
   "mimetype": "text/x-python",
   "name": "python",
   "nbconvert_exporter": "python",
   "pygments_lexer": "ipython3",
   "version": "3.8.5"
  }
 },
 "nbformat": 4,
 "nbformat_minor": 4
}
