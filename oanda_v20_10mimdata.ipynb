{
 "cells": [
  {
   "cell_type": "markdown",
   "metadata": {},
   "source": [
    "10分足を1か月ごとに取得するコード\n",
    "df形式に変換する\n",
    "CSVファイルに出力する"
   ]
  },
  {
   "cell_type": "code",
   "execution_count": 1,
   "metadata": {},
   "outputs": [],
   "source": [
    "from oandapyV20 import API\n",
    "from oandapyV20.exceptions import V20Error\n",
    "from oandapyV20.endpoints.pricing import PricingStream\n",
    "import oandapyV20.endpoints.orders as orders\n",
    "import oandapyV20.endpoints.instruments as instruments\n",
    "\n",
    "import json\n",
    "import datetime\n",
    "import pandas as pd\n",
    "from dateutil.relativedelta import relativedelta"
   ]
  },
  {
   "cell_type": "code",
   "execution_count": 2,
   "metadata": {},
   "outputs": [],
   "source": [
    "# API接続設定のファイルを読み込む\n",
    "import configparser\n",
    "\n",
    "# 設定\n",
    "config = configparser.ConfigParser()\n",
    "config.read('./config_v1.txt') # パスの指定が必要です\n",
    "account_ID = config['oanda']['account_id']\n",
    "api_key = config['oanda']['api_key']"
   ]
  },
  {
   "cell_type": "code",
   "execution_count": 3,
   "metadata": {},
   "outputs": [],
   "source": [
    "api = API(access_token=api_key, environment=\"practice\")"
   ]
  },
  {
   "cell_type": "code",
   "execution_count": 4,
   "metadata": {},
   "outputs": [],
   "source": [
    "#candleデータを取得する処理をメソッドにしました。\n",
    "#fromとtoをdatetime型で受けて、Oanda APIでcandleデータを取得します。\n",
    "#datetimeのisoformat()で、Oanda APIで利用できるisoフォーマットに変換する必要があります。\n",
    "\n",
    "# Oandaからcandleデータを取得する。\n",
    "def getCandleDataFromOanda(instrument, api, date_from, date_to, granularity):\n",
    "    params = {\n",
    "        \"from\": date_from.isoformat(),\n",
    "        \"to\": date_to.isoformat(),\n",
    "        \"granularity\": granularity,\n",
    "    }\n",
    "    r = instruments.InstrumentsCandles(instrument=instrument, params=params)\n",
    "    return api.request(r)"
   ]
  },
  {
   "cell_type": "code",
   "execution_count": 5,
   "metadata": {},
   "outputs": [],
   "source": [
    "#Oanda APIからの戻り値はJSON形式なので、\n",
    "#それをpythonの配列に変換するメソッドを用意しました。\n",
    "#戻り値の日付をisoフォーマットからdatatime形式へ変換していますが、\n",
    "#小数点以下があるとうまく変換できなかったので、\n",
    "#秒までの頭19桁で切ったものをdatetimeに変換する事にしました。\n",
    "\n",
    "def oandaJsonToPythonList(JSONRes):\n",
    "    data = []\n",
    "    for res in JSONRes['candles']:\n",
    "        data.append( [\n",
    "            datetime.datetime.fromisoformat(res['time'][:19]),\n",
    "            res['volume'],\n",
    "            res['mid']['o'],\n",
    "            res['mid']['h'],\n",
    "            res['mid']['l'],\n",
    "            res['mid']['c'],\n",
    "            ])\n",
    "    return data"
   ]
  },
  {
   "cell_type": "code",
   "execution_count": 6,
   "metadata": {},
   "outputs": [],
   "source": [
    "#Oanda APIで価格データを取得するには、一度に5,000件までという制約があります。\n",
    "#10分足だと1日分が6 * 24 = 144件、約34日分が5000件となります。\n",
    "#そのため、1ヶ月分づつをループ処理で回しながら取得していくのが良いでしょう。\n",
    "\n",
    "year_months =[\n",
    "    [2016, 1], [2016, 2], [2016, 3], [2016, 4], [2016, 5], [2016, 6], [2016, 7], [2016, 8], [2016, 9], [2016, 10], [2016, 11], [2016, 12],\n",
    "    [2017, 1], [2017, 2], [2017, 3], [2017, 4], [2017, 5], [2017, 6], [2017, 7], [2017, 8], [2017, 9], [2017, 10], [2017, 11], [2017, 12],\n",
    "    [2018, 1], [2018, 2], [2018, 3], [2018, 4], [2018, 5], [2018, 6], [2018, 7], [2018, 8], [2018, 9], [2018, 10], [2018, 11], [2018, 12],\n",
    "    [2019, 1], [2019, 2], [2019, 3], [2019, 4], [2019, 5], [2019, 6], [2019, 7], [2019, 8], [2019, 9], [2019, 10], [2019, 11], [2019, 12],\n",
    "    [2020, 1], [2020, 2], [2020, 3], [2020, 4], [2020, 5], [2020, 6], [2020, 7], [2020, 8], [2020, 9], [2020, 10], [2020, 11]\n",
    "]"
   ]
  },
  {
   "cell_type": "code",
   "execution_count": 7,
   "metadata": {},
   "outputs": [],
   "source": [
    "#時間はUTCなので注意\n",
    "#ヘルパーメソッドが揃ったところで、年月でループしながらデータを取得していきます\n",
    "#上記で定義したメソッドを呼び出して配列に格納していくだけです。\n",
    "#M10は10分データを意味します。\n",
    "\n",
    "all_data = []\n",
    "# year, monthでループ\n",
    "for year, month in year_months:\n",
    "    date_from = datetime.datetime(year, month, 1)\n",
    "    date_to = date_from + relativedelta(months=+1, day=1)\n",
    "\n",
    "    ret = getCandleDataFromOanda(\"USD_JPY\", api, date_from, date_to, \"M10\")\n",
    "    month_data = oandaJsonToPythonList(ret)\n",
    "\n",
    "    all_data.extend(month_data)"
   ]
  },
  {
   "cell_type": "code",
   "execution_count": 8,
   "metadata": {},
   "outputs": [],
   "source": [
    "# pandas DataFrameへ変換\n",
    "df = pd.DataFrame(all_data)\n",
    "df.columns = ['Datetime', 'Volume', 'Open', 'High', 'Low', 'Close']\n",
    "df = df.set_index('Datetime')"
   ]
  },
  {
   "cell_type": "code",
   "execution_count": 9,
   "metadata": {},
   "outputs": [
    {
     "data": {
      "text/plain": [
       "(183228, 5)"
      ]
     },
     "execution_count": 9,
     "metadata": {},
     "output_type": "execute_result"
    }
   ],
   "source": [
    "df.shape"
   ]
  },
  {
   "cell_type": "code",
   "execution_count": 10,
   "metadata": {},
   "outputs": [
    {
     "data": {
      "text/html": [
       "<div>\n",
       "<style scoped>\n",
       "    .dataframe tbody tr th:only-of-type {\n",
       "        vertical-align: middle;\n",
       "    }\n",
       "\n",
       "    .dataframe tbody tr th {\n",
       "        vertical-align: top;\n",
       "    }\n",
       "\n",
       "    .dataframe thead th {\n",
       "        text-align: right;\n",
       "    }\n",
       "</style>\n",
       "<table border=\"1\" class=\"dataframe\">\n",
       "  <thead>\n",
       "    <tr style=\"text-align: right;\">\n",
       "      <th></th>\n",
       "      <th>Volume</th>\n",
       "      <th>Open</th>\n",
       "      <th>High</th>\n",
       "      <th>Low</th>\n",
       "      <th>Close</th>\n",
       "    </tr>\n",
       "    <tr>\n",
       "      <th>Datetime</th>\n",
       "      <th></th>\n",
       "      <th></th>\n",
       "      <th></th>\n",
       "      <th></th>\n",
       "      <th></th>\n",
       "    </tr>\n",
       "  </thead>\n",
       "  <tbody>\n",
       "    <tr>\n",
       "      <th>2016-01-03 22:00:00</th>\n",
       "      <td>162</td>\n",
       "      <td>120.195</td>\n",
       "      <td>120.235</td>\n",
       "      <td>120.194</td>\n",
       "      <td>120.227</td>\n",
       "    </tr>\n",
       "    <tr>\n",
       "      <th>2016-01-03 22:10:00</th>\n",
       "      <td>208</td>\n",
       "      <td>120.226</td>\n",
       "      <td>120.253</td>\n",
       "      <td>120.209</td>\n",
       "      <td>120.236</td>\n",
       "    </tr>\n",
       "    <tr>\n",
       "      <th>2016-01-03 22:20:00</th>\n",
       "      <td>333</td>\n",
       "      <td>120.235</td>\n",
       "      <td>120.283</td>\n",
       "      <td>120.233</td>\n",
       "      <td>120.274</td>\n",
       "    </tr>\n",
       "    <tr>\n",
       "      <th>2016-01-03 22:30:00</th>\n",
       "      <td>359</td>\n",
       "      <td>120.274</td>\n",
       "      <td>120.304</td>\n",
       "      <td>120.268</td>\n",
       "      <td>120.286</td>\n",
       "    </tr>\n",
       "    <tr>\n",
       "      <th>2016-01-03 22:40:00</th>\n",
       "      <td>242</td>\n",
       "      <td>120.288</td>\n",
       "      <td>120.330</td>\n",
       "      <td>120.277</td>\n",
       "      <td>120.313</td>\n",
       "    </tr>\n",
       "  </tbody>\n",
       "</table>\n",
       "</div>"
      ],
      "text/plain": [
       "                     Volume     Open     High      Low    Close\n",
       "Datetime                                                       \n",
       "2016-01-03 22:00:00     162  120.195  120.235  120.194  120.227\n",
       "2016-01-03 22:10:00     208  120.226  120.253  120.209  120.236\n",
       "2016-01-03 22:20:00     333  120.235  120.283  120.233  120.274\n",
       "2016-01-03 22:30:00     359  120.274  120.304  120.268  120.286\n",
       "2016-01-03 22:40:00     242  120.288  120.330  120.277  120.313"
      ]
     },
     "execution_count": 10,
     "metadata": {},
     "output_type": "execute_result"
    }
   ],
   "source": [
    "df.head(5)"
   ]
  },
  {
   "cell_type": "code",
   "execution_count": 11,
   "metadata": {},
   "outputs": [
    {
     "data": {
      "text/html": [
       "<div>\n",
       "<style scoped>\n",
       "    .dataframe tbody tr th:only-of-type {\n",
       "        vertical-align: middle;\n",
       "    }\n",
       "\n",
       "    .dataframe tbody tr th {\n",
       "        vertical-align: top;\n",
       "    }\n",
       "\n",
       "    .dataframe thead th {\n",
       "        text-align: right;\n",
       "    }\n",
       "</style>\n",
       "<table border=\"1\" class=\"dataframe\">\n",
       "  <thead>\n",
       "    <tr style=\"text-align: right;\">\n",
       "      <th></th>\n",
       "      <th>Volume</th>\n",
       "      <th>Open</th>\n",
       "      <th>High</th>\n",
       "      <th>Low</th>\n",
       "      <th>Close</th>\n",
       "    </tr>\n",
       "    <tr>\n",
       "      <th>Datetime</th>\n",
       "      <th></th>\n",
       "      <th></th>\n",
       "      <th></th>\n",
       "      <th></th>\n",
       "      <th></th>\n",
       "    </tr>\n",
       "  </thead>\n",
       "  <tbody>\n",
       "    <tr>\n",
       "      <th>2020-12-01 04:10:00</th>\n",
       "      <td>137</td>\n",
       "      <td>104.440</td>\n",
       "      <td>104.446</td>\n",
       "      <td>104.426</td>\n",
       "      <td>104.426</td>\n",
       "    </tr>\n",
       "    <tr>\n",
       "      <th>2020-12-01 04:20:00</th>\n",
       "      <td>175</td>\n",
       "      <td>104.426</td>\n",
       "      <td>104.427</td>\n",
       "      <td>104.388</td>\n",
       "      <td>104.392</td>\n",
       "    </tr>\n",
       "    <tr>\n",
       "      <th>2020-12-01 04:30:00</th>\n",
       "      <td>312</td>\n",
       "      <td>104.390</td>\n",
       "      <td>104.394</td>\n",
       "      <td>104.373</td>\n",
       "      <td>104.378</td>\n",
       "    </tr>\n",
       "    <tr>\n",
       "      <th>2020-12-01 04:40:00</th>\n",
       "      <td>214</td>\n",
       "      <td>104.378</td>\n",
       "      <td>104.388</td>\n",
       "      <td>104.378</td>\n",
       "      <td>104.386</td>\n",
       "    </tr>\n",
       "    <tr>\n",
       "      <th>2020-12-01 04:50:00</th>\n",
       "      <td>170</td>\n",
       "      <td>104.388</td>\n",
       "      <td>104.392</td>\n",
       "      <td>104.362</td>\n",
       "      <td>104.376</td>\n",
       "    </tr>\n",
       "  </tbody>\n",
       "</table>\n",
       "</div>"
      ],
      "text/plain": [
       "                     Volume     Open     High      Low    Close\n",
       "Datetime                                                       \n",
       "2020-12-01 04:10:00     137  104.440  104.446  104.426  104.426\n",
       "2020-12-01 04:20:00     175  104.426  104.427  104.388  104.392\n",
       "2020-12-01 04:30:00     312  104.390  104.394  104.373  104.378\n",
       "2020-12-01 04:40:00     214  104.378  104.388  104.378  104.386\n",
       "2020-12-01 04:50:00     170  104.388  104.392  104.362  104.376"
      ]
     },
     "execution_count": 11,
     "metadata": {},
     "output_type": "execute_result"
    }
   ],
   "source": [
    "df.tail(5)"
   ]
  },
  {
   "cell_type": "code",
   "execution_count": 12,
   "metadata": {},
   "outputs": [
    {
     "ename": "PermissionError",
     "evalue": "[Errno 13] Permission denied: './USD_JPY_201601-202011_M10.csv'",
     "output_type": "error",
     "traceback": [
      "\u001b[1;31m---------------------------------------------------------------------------\u001b[0m",
      "\u001b[1;31mPermissionError\u001b[0m                           Traceback (most recent call last)",
      "\u001b[1;32m<ipython-input-12-76ff282c1cde>\u001b[0m in \u001b[0;36m<module>\u001b[1;34m\u001b[0m\n\u001b[0;32m      1\u001b[0m \u001b[1;31m# CSVファイルへの出力\u001b[0m\u001b[1;33m\u001b[0m\u001b[1;33m\u001b[0m\u001b[1;33m\u001b[0m\u001b[0m\n\u001b[1;32m----> 2\u001b[1;33m \u001b[0mdf\u001b[0m\u001b[1;33m.\u001b[0m\u001b[0mto_csv\u001b[0m\u001b[1;33m(\u001b[0m\u001b[1;34m'./USD_JPY_201601-202011_M10.csv'\u001b[0m\u001b[1;33m)\u001b[0m\u001b[1;33m\u001b[0m\u001b[1;33m\u001b[0m\u001b[0m\n\u001b[0m\u001b[0;32m      3\u001b[0m \u001b[1;33m\u001b[0m\u001b[0m\n\u001b[0;32m      4\u001b[0m \u001b[1;31m# CSVファイルの読み取り\u001b[0m\u001b[1;33m\u001b[0m\u001b[1;33m\u001b[0m\u001b[1;33m\u001b[0m\u001b[0m\n\u001b[0;32m      5\u001b[0m \u001b[0mdf\u001b[0m \u001b[1;33m=\u001b[0m \u001b[0mpd\u001b[0m\u001b[1;33m.\u001b[0m\u001b[0mread_csv\u001b[0m\u001b[1;33m(\u001b[0m\u001b[1;34m'./USD_JPY_201601-202011_M10.csv'\u001b[0m\u001b[1;33m,\u001b[0m \u001b[0mindex_col\u001b[0m\u001b[1;33m=\u001b[0m\u001b[1;34m'Datetime'\u001b[0m\u001b[1;33m)\u001b[0m\u001b[1;33m\u001b[0m\u001b[1;33m\u001b[0m\u001b[0m\n",
      "\u001b[1;32m~\\anaconda3\\lib\\site-packages\\pandas\\core\\generic.py\u001b[0m in \u001b[0;36mto_csv\u001b[1;34m(self, path_or_buf, sep, na_rep, float_format, columns, header, index, index_label, mode, encoding, compression, quoting, quotechar, line_terminator, chunksize, date_format, doublequote, escapechar, decimal, errors)\u001b[0m\n\u001b[0;32m   3168\u001b[0m             \u001b[0mdecimal\u001b[0m\u001b[1;33m=\u001b[0m\u001b[0mdecimal\u001b[0m\u001b[1;33m,\u001b[0m\u001b[1;33m\u001b[0m\u001b[1;33m\u001b[0m\u001b[0m\n\u001b[0;32m   3169\u001b[0m         )\n\u001b[1;32m-> 3170\u001b[1;33m         \u001b[0mformatter\u001b[0m\u001b[1;33m.\u001b[0m\u001b[0msave\u001b[0m\u001b[1;33m(\u001b[0m\u001b[1;33m)\u001b[0m\u001b[1;33m\u001b[0m\u001b[1;33m\u001b[0m\u001b[0m\n\u001b[0m\u001b[0;32m   3171\u001b[0m \u001b[1;33m\u001b[0m\u001b[0m\n\u001b[0;32m   3172\u001b[0m         \u001b[1;32mif\u001b[0m \u001b[0mpath_or_buf\u001b[0m \u001b[1;32mis\u001b[0m \u001b[1;32mNone\u001b[0m\u001b[1;33m:\u001b[0m\u001b[1;33m\u001b[0m\u001b[1;33m\u001b[0m\u001b[0m\n",
      "\u001b[1;32m~\\anaconda3\\lib\\site-packages\\pandas\\io\\formats\\csvs.py\u001b[0m in \u001b[0;36msave\u001b[1;34m(self)\u001b[0m\n\u001b[0;32m    183\u001b[0m             \u001b[0mclose\u001b[0m \u001b[1;33m=\u001b[0m \u001b[1;32mFalse\u001b[0m\u001b[1;33m\u001b[0m\u001b[1;33m\u001b[0m\u001b[0m\n\u001b[0;32m    184\u001b[0m         \u001b[1;32melse\u001b[0m\u001b[1;33m:\u001b[0m\u001b[1;33m\u001b[0m\u001b[1;33m\u001b[0m\u001b[0m\n\u001b[1;32m--> 185\u001b[1;33m             f, handles = get_handle(\n\u001b[0m\u001b[0;32m    186\u001b[0m                 \u001b[0mself\u001b[0m\u001b[1;33m.\u001b[0m\u001b[0mpath_or_buf\u001b[0m\u001b[1;33m,\u001b[0m\u001b[1;33m\u001b[0m\u001b[1;33m\u001b[0m\u001b[0m\n\u001b[0;32m    187\u001b[0m                 \u001b[0mself\u001b[0m\u001b[1;33m.\u001b[0m\u001b[0mmode\u001b[0m\u001b[1;33m,\u001b[0m\u001b[1;33m\u001b[0m\u001b[1;33m\u001b[0m\u001b[0m\n",
      "\u001b[1;32m~\\anaconda3\\lib\\site-packages\\pandas\\io\\common.py\u001b[0m in \u001b[0;36mget_handle\u001b[1;34m(path_or_buf, mode, encoding, compression, memory_map, is_text, errors)\u001b[0m\n\u001b[0;32m    491\u001b[0m         \u001b[1;32mif\u001b[0m \u001b[0mencoding\u001b[0m\u001b[1;33m:\u001b[0m\u001b[1;33m\u001b[0m\u001b[1;33m\u001b[0m\u001b[0m\n\u001b[0;32m    492\u001b[0m             \u001b[1;31m# Encoding\u001b[0m\u001b[1;33m\u001b[0m\u001b[1;33m\u001b[0m\u001b[1;33m\u001b[0m\u001b[0m\n\u001b[1;32m--> 493\u001b[1;33m             \u001b[0mf\u001b[0m \u001b[1;33m=\u001b[0m \u001b[0mopen\u001b[0m\u001b[1;33m(\u001b[0m\u001b[0mpath_or_buf\u001b[0m\u001b[1;33m,\u001b[0m \u001b[0mmode\u001b[0m\u001b[1;33m,\u001b[0m \u001b[0mencoding\u001b[0m\u001b[1;33m=\u001b[0m\u001b[0mencoding\u001b[0m\u001b[1;33m,\u001b[0m \u001b[0merrors\u001b[0m\u001b[1;33m=\u001b[0m\u001b[0merrors\u001b[0m\u001b[1;33m,\u001b[0m \u001b[0mnewline\u001b[0m\u001b[1;33m=\u001b[0m\u001b[1;34m\"\"\u001b[0m\u001b[1;33m)\u001b[0m\u001b[1;33m\u001b[0m\u001b[1;33m\u001b[0m\u001b[0m\n\u001b[0m\u001b[0;32m    494\u001b[0m         \u001b[1;32melif\u001b[0m \u001b[0mis_text\u001b[0m\u001b[1;33m:\u001b[0m\u001b[1;33m\u001b[0m\u001b[1;33m\u001b[0m\u001b[0m\n\u001b[0;32m    495\u001b[0m             \u001b[1;31m# No explicit encoding\u001b[0m\u001b[1;33m\u001b[0m\u001b[1;33m\u001b[0m\u001b[1;33m\u001b[0m\u001b[0m\n",
      "\u001b[1;31mPermissionError\u001b[0m: [Errno 13] Permission denied: './USD_JPY_201601-202011_M10.csv'"
     ]
    }
   ],
   "source": [
    "# CSVファイルへの出力\n",
    "df.to_csv('./USD_JPY_201601-202011_M10.csv')\n",
    "\n",
    "# CSVファイルの読み取り\n",
    "df = pd.read_csv('./USD_JPY_201601-202011_M10.csv', index_col='Datetime')"
   ]
  },
  {
   "cell_type": "code",
   "execution_count": null,
   "metadata": {},
   "outputs": [],
   "source": []
  }
 ],
 "metadata": {
  "kernelspec": {
   "display_name": "Python 3",
   "language": "python",
   "name": "python3"
  },
  "language_info": {
   "codemirror_mode": {
    "name": "ipython",
    "version": 3
   },
   "file_extension": ".py",
   "mimetype": "text/x-python",
   "name": "python",
   "nbconvert_exporter": "python",
   "pygments_lexer": "ipython3",
   "version": "3.8.5"
  }
 },
 "nbformat": 4,
 "nbformat_minor": 4
}
