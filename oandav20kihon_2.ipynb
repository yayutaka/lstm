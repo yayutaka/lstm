{
 "cells": [
  {
   "cell_type": "code",
   "execution_count": 1,
   "metadata": {},
   "outputs": [],
   "source": [
    "# API接続設定のファイルを読み込む\n",
    "import configparser\n",
    "\n",
    "# 設定\n",
    "config = configparser.ConfigParser()\n",
    "config.read('./config_v1.txt') # パスの指定が必要です\n",
    "account_ID = config['oanda']['account_id']\n",
    "api_key = config['oanda']['api_key']"
   ]
  },
  {
   "cell_type": "code",
   "execution_count": 4,
   "metadata": {},
   "outputs": [
    {
     "name": "stdout",
     "output_type": "stream",
     "text": [
      "{\n",
      "  \"time\": \"2021-01-09T12:16:57.534456809Z\",\n",
      "  \"prices\": [\n",
      "    {\n",
      "      \"type\": \"PRICE\",\n",
      "      \"time\": \"2021-01-08T22:00:00.035300836Z\",\n",
      "      \"bids\": [\n",
      "        {\n",
      "          \"price\": \"103.886\",\n",
      "          \"liquidity\": 250000\n",
      "        }\n",
      "      ],\n",
      "      \"asks\": [\n",
      "        {\n",
      "          \"price\": \"103.970\",\n",
      "          \"liquidity\": 250000\n",
      "        }\n",
      "      ],\n",
      "      \"closeoutBid\": \"103.878\",\n",
      "      \"closeoutAsk\": \"103.978\",\n",
      "      \"status\": \"non-tradeable\",\n",
      "      \"tradeable\": false,\n",
      "      \"unitsAvailable\": {\n",
      "        \"default\": {\n",
      "          \"long\": \"250000\",\n",
      "          \"short\": \"250000\"\n",
      "        },\n",
      "        \"openOnly\": {\n",
      "          \"long\": \"250000\",\n",
      "          \"short\": \"250000\"\n",
      "        },\n",
      "        \"reduceFirst\": {\n",
      "          \"long\": \"250000\",\n",
      "          \"short\": \"250000\"\n",
      "        },\n",
      "        \"reduceOnly\": {\n",
      "          \"long\": \"0\",\n",
      "          \"short\": \"0\"\n",
      "        }\n",
      "      },\n",
      "      \"quoteHomeConversionFactors\": {\n",
      "        \"positiveUnits\": \"1.00000000\",\n",
      "        \"negativeUnits\": \"1.00000000\"\n",
      "      },\n",
      "      \"instrument\": \"USD_JPY\"\n",
      "    }\n",
      "  ]\n",
      "}\n"
     ]
    }
   ],
   "source": [
    "# 必要なモジュールの読み込み\n",
    "import requests\n",
    "import json\n",
    "# 口座情報の設定　（口座の解説の仕方はググってね）\n",
    "API_Token = api_key\n",
    "API_AccountID = account_ID\n",
    "# URLの設定　（デモ口座用非ストリーミングURL）\n",
    "API_URL =  \"https://api-fxpractice.oanda.com\"\n",
    "# 通貨ペア\n",
    "INSTRUMENT = \"USD_JPY\"\n",
    "# <現在レートの取得用URLの変数の設定>\n",
    "# /v3/accounts/{Account ID}/pricing \n",
    "url = API_URL + \"/v3/accounts/%s/pricing?instruments=%s\" % (str(API_AccountID), INSTRUMENT)\n",
    "# ヘッダー情報の変数の設定\n",
    "headers = {\"Authorization\" : \"Bearer \" + API_Token}\n",
    "# サーバーへの要求\n",
    "response = requests.get(url, headers=headers)\n",
    "# 処理結果の編集\n",
    "Response_Body = json.loads(response.text)\n",
    "print(json.dumps(Response_Body, indent=2))"
   ]
  },
  {
   "cell_type": "code",
   "execution_count": 5,
   "metadata": {},
   "outputs": [
    {
     "name": "stdout",
     "output_type": "stream",
     "text": [
      "USD_JPY\n",
      "2021-01-08T22:00:00.035300836Z\n",
      "103.886\n",
      "103.970\n",
      "False\n"
     ]
    }
   ],
   "source": [
    "print(Response_Body[\"prices\"][0][\"instrument\"]) \n",
    "print(Response_Body[\"prices\"][0][\"time\"])\n",
    "print(Response_Body[\"prices\"][0][\"bids\"][0][\"price\"])\n",
    "print(Response_Body[\"prices\"][0][\"asks\"][0][\"price\"])\n",
    "print(Response_Body[\"prices\"][0][\"tradeable\"])"
   ]
  },
  {
   "cell_type": "code",
   "execution_count": null,
   "metadata": {},
   "outputs": [],
   "source": []
  }
 ],
 "metadata": {
  "kernelspec": {
   "display_name": "Python 3",
   "language": "python",
   "name": "python3"
  },
  "language_info": {
   "codemirror_mode": {
    "name": "ipython",
    "version": 3
   },
   "file_extension": ".py",
   "mimetype": "text/x-python",
   "name": "python",
   "nbconvert_exporter": "python",
   "pygments_lexer": "ipython3",
   "version": "3.8.5"
  }
 },
 "nbformat": 4,
 "nbformat_minor": 4
}
