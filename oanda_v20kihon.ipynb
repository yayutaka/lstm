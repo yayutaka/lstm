{
 "cells": [
  {
   "cell_type": "markdown",
   "metadata": {},
   "source": [
    "oandapyをインポートし、IDとトークンを設定\n",
    "口座情報などを確認する\n",
    "直近5分足を取得してみる\n",
    "取引コードを試してみる"
   ]
  },
  {
   "cell_type": "code",
   "execution_count": 11,
   "metadata": {},
   "outputs": [],
   "source": [
    "# API接続設定のファイルを読み込む\n",
    "import configparser\n",
    "\n",
    "# 設定\n",
    "config = configparser.ConfigParser()\n",
    "config.read('./config_v1.txt') # パスの指定が必要です\n",
    "account_ID = config['oanda']['account_id']\n",
    "api_key = config['oanda']['api_key']"
   ]
  },
  {
   "cell_type": "code",
   "execution_count": 16,
   "metadata": {},
   "outputs": [
    {
     "data": {
      "text/plain": [
       "'101-009-17484133-001'"
      ]
     },
     "execution_count": 16,
     "metadata": {},
     "output_type": "execute_result"
    }
   ],
   "source": [
    "account_ID"
   ]
  },
  {
   "cell_type": "code",
   "execution_count": 17,
   "metadata": {},
   "outputs": [
    {
     "data": {
      "text/plain": [
       "'4acc6595f1e79b1dac9b723f2e1c571b-c40bdd36b16966a7c9fdfc8211546795'"
      ]
     },
     "execution_count": 17,
     "metadata": {},
     "output_type": "execute_result"
    }
   ],
   "source": [
    "api_key"
   ]
  },
  {
   "cell_type": "code",
   "execution_count": null,
   "metadata": {},
   "outputs": [],
   "source": [
    "#!pip install oandapyV20"
   ]
  },
  {
   "cell_type": "code",
   "execution_count": 18,
   "metadata": {},
   "outputs": [],
   "source": [
    "from oandapyV20 import API\n",
    "from oandapyV20.exceptions import V20Error\n",
    "from oandapyV20.endpoints.pricing import PricingStream\n",
    "import oandapyV20.endpoints.orders as orders\n",
    "import oandapyV20.endpoints.instruments as instruments\n",
    "import json"
   ]
  },
  {
   "cell_type": "code",
   "execution_count": 19,
   "metadata": {},
   "outputs": [],
   "source": [
    "#自分のアカウント、トークンをセット\n",
    "\n",
    "api = API(access_token=api_key, environment=\"practice\")"
   ]
  },
  {
   "cell_type": "code",
   "execution_count": 14,
   "metadata": {
    "scrolled": true
   },
   "outputs": [
    {
     "ename": "NameError",
     "evalue": "name 'accountID' is not defined",
     "output_type": "error",
     "traceback": [
      "\u001b[1;31m---------------------------------------------------------------------------\u001b[0m",
      "\u001b[1;31mNameError\u001b[0m                                 Traceback (most recent call last)",
      "\u001b[1;32m<ipython-input-14-d8d53158cab1>\u001b[0m in \u001b[0;36m<module>\u001b[1;34m\u001b[0m\n\u001b[0;32m      3\u001b[0m \u001b[0mparams\u001b[0m \u001b[1;33m=\u001b[0m \u001b[1;33m{\u001b[0m \u001b[1;34m\"instruments\"\u001b[0m\u001b[1;33m:\u001b[0m \u001b[1;34m\"EUR_USD,EUR_JPY,USD_JPY\"\u001b[0m \u001b[1;33m}\u001b[0m\u001b[1;33m\u001b[0m\u001b[1;33m\u001b[0m\u001b[0m\n\u001b[0;32m      4\u001b[0m \u001b[1;32mimport\u001b[0m \u001b[0moandapyV20\u001b[0m\u001b[1;33m.\u001b[0m\u001b[0mendpoints\u001b[0m\u001b[1;33m.\u001b[0m\u001b[0maccounts\u001b[0m \u001b[1;32mas\u001b[0m \u001b[0maccounts\u001b[0m\u001b[1;33m\u001b[0m\u001b[1;33m\u001b[0m\u001b[0m\n\u001b[1;32m----> 5\u001b[1;33m \u001b[0mr\u001b[0m \u001b[1;33m=\u001b[0m \u001b[0maccounts\u001b[0m\u001b[1;33m.\u001b[0m\u001b[0mAccountInstruments\u001b[0m\u001b[1;33m(\u001b[0m\u001b[0maccountID\u001b[0m\u001b[1;33m=\u001b[0m\u001b[0maccountID\u001b[0m\u001b[1;33m,\u001b[0m \u001b[0mparams\u001b[0m\u001b[1;33m=\u001b[0m\u001b[0mparams\u001b[0m\u001b[1;33m)\u001b[0m\u001b[1;33m\u001b[0m\u001b[1;33m\u001b[0m\u001b[0m\n\u001b[0m\u001b[0;32m      6\u001b[0m \u001b[0mapi\u001b[0m\u001b[1;33m.\u001b[0m\u001b[0mrequest\u001b[0m\u001b[1;33m(\u001b[0m\u001b[0mr\u001b[0m\u001b[1;33m)\u001b[0m\u001b[1;33m\u001b[0m\u001b[1;33m\u001b[0m\u001b[0m\n",
      "\u001b[1;31mNameError\u001b[0m: name 'accountID' is not defined"
     ]
    }
   ],
   "source": [
    "#AccountInstrumentsクラスを使って、取引可能な通貨の情報を取得します。\n",
    "#paramsで対象の通貨ペアを指定してリクエストします。\n",
    "params = { \"instruments\": \"EUR_USD,EUR_JPY,USD_JPY\" }\n",
    "import oandapyV20.endpoints.accounts as accounts\n",
    "r = accounts.AccountInstruments(accountID=accountID, params=params)\n",
    "api.request(r)"
   ]
  },
  {
   "cell_type": "code",
   "execution_count": 15,
   "metadata": {},
   "outputs": [
    {
     "ename": "NameError",
     "evalue": "name 'accountID' is not defined",
     "output_type": "error",
     "traceback": [
      "\u001b[1;31m---------------------------------------------------------------------------\u001b[0m",
      "\u001b[1;31mNameError\u001b[0m                                 Traceback (most recent call last)",
      "\u001b[1;32m<ipython-input-15-9733c623a490>\u001b[0m in \u001b[0;36m<module>\u001b[1;34m\u001b[0m\n\u001b[0;32m      1\u001b[0m \u001b[1;31m#AccountSummaryで残高やポジション数などの口座のサマリが取得できます。\u001b[0m\u001b[1;33m\u001b[0m\u001b[1;33m\u001b[0m\u001b[1;33m\u001b[0m\u001b[0m\n\u001b[0;32m      2\u001b[0m \u001b[1;32mimport\u001b[0m \u001b[0moandapyV20\u001b[0m\u001b[1;33m.\u001b[0m\u001b[0mendpoints\u001b[0m\u001b[1;33m.\u001b[0m\u001b[0maccounts\u001b[0m \u001b[1;32mas\u001b[0m \u001b[0maccounts\u001b[0m\u001b[1;33m\u001b[0m\u001b[1;33m\u001b[0m\u001b[0m\n\u001b[1;32m----> 3\u001b[1;33m \u001b[0mr\u001b[0m \u001b[1;33m=\u001b[0m \u001b[0maccounts\u001b[0m\u001b[1;33m.\u001b[0m\u001b[0mAccountSummary\u001b[0m\u001b[1;33m(\u001b[0m\u001b[0maccountID\u001b[0m\u001b[1;33m)\u001b[0m\u001b[1;33m\u001b[0m\u001b[1;33m\u001b[0m\u001b[0m\n\u001b[0m\u001b[0;32m      4\u001b[0m \u001b[0mapi\u001b[0m\u001b[1;33m.\u001b[0m\u001b[0mrequest\u001b[0m\u001b[1;33m(\u001b[0m\u001b[0mr\u001b[0m\u001b[1;33m)\u001b[0m\u001b[1;33m\u001b[0m\u001b[1;33m\u001b[0m\u001b[0m\n",
      "\u001b[1;31mNameError\u001b[0m: name 'accountID' is not defined"
     ]
    }
   ],
   "source": [
    "#AccountSummaryで残高やポジション数などの口座のサマリが取得できます。\n",
    "import oandapyV20.endpoints.accounts as accounts\n",
    "r = accounts.AccountSummary(accountID)\n",
    "api.request(r)"
   ]
  },
  {
   "cell_type": "code",
   "execution_count": 27,
   "metadata": {},
   "outputs": [
    {
     "data": {
      "text/plain": [
       "{'instrument': 'EUR_USD',\n",
       " 'granularity': 'M5',\n",
       " 'candles': [{'complete': True,\n",
       "   'volume': 423,\n",
       "   'time': '2020-12-30T08:30:00.000000000Z',\n",
       "   'mid': {'o': '1.22606', 'h': '1.22611', 'l': '1.22562', 'c': '1.22573'}},\n",
       "  {'complete': True,\n",
       "   'volume': 372,\n",
       "   'time': '2020-12-30T08:35:00.000000000Z',\n",
       "   'mid': {'o': '1.22574', 'h': '1.22612', 'l': '1.22570', 'c': '1.22590'}},\n",
       "  {'complete': True,\n",
       "   'volume': 343,\n",
       "   'time': '2020-12-30T08:40:00.000000000Z',\n",
       "   'mid': {'o': '1.22592', 'h': '1.22606', 'l': '1.22576', 'c': '1.22596'}},\n",
       "  {'complete': True,\n",
       "   'volume': 519,\n",
       "   'time': '2020-12-30T08:45:00.000000000Z',\n",
       "   'mid': {'o': '1.22594', 'h': '1.22620', 'l': '1.22574', 'c': '1.22588'}},\n",
       "  {'complete': False,\n",
       "   'volume': 45,\n",
       "   'time': '2020-12-30T08:50:00.000000000Z',\n",
       "   'mid': {'o': '1.22586', 'h': '1.22600', 'l': '1.22580', 'c': '1.22600'}}]}"
      ]
     },
     "execution_count": 27,
     "metadata": {},
     "output_type": "execute_result"
    }
   ],
   "source": [
    "#各通貨ペアの価格データを取得するには、InstrumentsCandlesクラスを利用します。\n",
    "#引数として、対象の通貨ペア（ここではUSD/JPY)と直近５件、５分足（M5)を指定しました。\n",
    "import oandapyV20.endpoints.instruments as instruments\n",
    "params = {\n",
    "  \"count\": 5,\n",
    "  \"granularity\": \"M5\"\n",
    "}\n",
    "r = instruments.InstrumentsCandles(instrument=\"EUR_USD\", params=params)\n",
    "api.request(r)"
   ]
  },
  {
   "cell_type": "code",
   "execution_count": 28,
   "metadata": {},
   "outputs": [
    {
     "data": {
      "text/plain": [
       "{'orderCreateTransaction': {'id': '4',\n",
       "  'accountID': '101-009-17484133-001',\n",
       "  'userID': 17484133,\n",
       "  'batchID': '4',\n",
       "  'requestID': '24764369087183096',\n",
       "  'time': '2020-12-30T08:53:14.505745139Z',\n",
       "  'type': 'LIMIT_ORDER',\n",
       "  'instrument': 'EUR_USD',\n",
       "  'units': '-1',\n",
       "  'price': '1.20000',\n",
       "  'timeInForce': 'GTC',\n",
       "  'triggerCondition': 'DEFAULT',\n",
       "  'partialFill': 'DEFAULT',\n",
       "  'positionFill': 'DEFAULT',\n",
       "  'stopLossOnFill': {'price': '1.22000', 'timeInForce': 'GTC'},\n",
       "  'reason': 'CLIENT_ORDER'},\n",
       " 'orderCancelTransaction': {'id': '5',\n",
       "  'accountID': '101-009-17484133-001',\n",
       "  'userID': 17484133,\n",
       "  'batchID': '4',\n",
       "  'requestID': '24764369087183096',\n",
       "  'time': '2020-12-30T08:53:14.505745139Z',\n",
       "  'type': 'ORDER_CANCEL',\n",
       "  'orderID': '4',\n",
       "  'reason': 'STOP_LOSS_ON_FILL_LOSS'},\n",
       " 'relatedTransactionIDs': ['4', '5'],\n",
       " 'lastTransactionID': '5'}"
      ]
     },
     "execution_count": 28,
     "metadata": {},
     "output_type": "execute_result"
    }
   ],
   "source": [
    "#Oanda APIではかなり複雑な注文方法にも対応しています。\n",
    "#オーダーは、orders.OrderCreateでオーダーを作成してから、\n",
    "#APIにリクエストすると実行されます。オーダー方法の詳細はdataパラメータで指定しています。\n",
    "\n",
    "#ここではpriceで注文金額、有効期間としてGTC（Good unTill Cancelled : キャンセルまで有効）、\n",
    "#対象の通過ペア（EUR/USD）、数量単位として100を指定しています。\n",
    "#数量（units）の+はLongの買い、-はShortの売りを意味しています。\n",
    "#stopLossOnFillでは、stopLossがトリガーされる金額と、\n",
    "#有効期間としてGTC（Good unTill Cancelled :キャンセルまで有効）を指定しています。\n",
    "\n",
    "#オーダー方法としては次のようなオーダーに対応しているようです。\n",
    "#- MarketOrder : 成行\n",
    "#- FixedPriceOrder : 指値\n",
    "#- LimitOrder : 閾値より良ければ約定\n",
    "#- StopOrder : 閾値より悪ければ約定\n",
    "\n",
    "#他にもMarketIfTouchedOrder, TakeProfitOrder, StopLossOrder, TrailingStopLossOrder\n",
    "#などあるようですが、使い分けはよく分かっていません。\n",
    "\n",
    "import oandapyV20.endpoints.orders as orders\n",
    "data =  {\n",
    "    \"order\": {\n",
    "        \"price\": \"1.2\",\n",
    "        \"stopLossOnFill\": {\n",
    "            \"timeInForce\": \"GTC\",\n",
    "            \"price\": \"1.22\"\n",
    "        },\n",
    "        \"timeInForce\": \"GTC\",\n",
    "        \"instrument\": \"EUR_USD\",\n",
    "        \"units\": \"-1\",\n",
    "        \"type\": \"LIMIT\",\n",
    "        \"positionFill\": \"DEFAULT\"\n",
    "    }    \n",
    "}\n",
    "r = orders.OrderCreate(accountID, data=data)\n",
    "api.request(r)"
   ]
  },
  {
   "cell_type": "code",
   "execution_count": 31,
   "metadata": {},
   "outputs": [
    {
     "data": {
      "text/plain": [
       "{'positions': [], 'lastTransactionID': '5'}"
      ]
     },
     "execution_count": 31,
     "metadata": {},
     "output_type": "execute_result"
    }
   ],
   "source": [
    "#約定したオーダーのポジションを確認したりクローズすることができます。\n",
    "#OpenPositionを利用して現在のポジションの一覧を取得できます。\n",
    "#買い、もしくは売りのどちらかのポジションを持っていればその状況が出力されます。\n",
    "\n",
    "#出力結果には次の情報が含まれています。\n",
    "#- Long/Shortそれぞれの損益と、totalの損益\n",
    "#- unrealizedPL : 現時点で未確定の損益\n",
    "#- resettablePL : 確定済みの損益です。\n",
    "\n",
    "import oandapyV20.endpoints.positions as positions\n",
    "r = positions.OpenPositions(accountID=accountID)\n",
    "api.request(r)"
   ]
  },
  {
   "cell_type": "code",
   "execution_count": null,
   "metadata": {},
   "outputs": [],
   "source": [
    "#USD/JPYの10000のlongのポジションのうち、\n",
    "#5000をクローズする場合の処理は次のようになります。\n",
    "\n",
    "import oandapyV20.endpoints.positions as positions\n",
    "data = {\n",
    "  \"longUnits\": \"5000\"\n",
    "}\n",
    "r = positions.PositionClose(accountID=accountID,\n",
    "                             instrument='USD_JPY',\n",
    "                             data=data)\n",
    "api.request(r)"
   ]
  }
 ],
 "metadata": {
  "kernelspec": {
   "display_name": "Python 3",
   "language": "python",
   "name": "python3"
  },
  "language_info": {
   "codemirror_mode": {
    "name": "ipython",
    "version": 3
   },
   "file_extension": ".py",
   "mimetype": "text/x-python",
   "name": "python",
   "nbconvert_exporter": "python",
   "pygments_lexer": "ipython3",
   "version": "3.6.13"
  }
 },
 "nbformat": 4,
 "nbformat_minor": 4
}
