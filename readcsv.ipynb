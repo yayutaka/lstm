{
 "cells": [
  {
   "cell_type": "code",
   "execution_count": 1,
   "id": "canadian-shannon",
   "metadata": {},
   "outputs": [],
   "source": [
    "import numpy as np\n",
    "import pandas as pd\n",
    "from datetime import datetime"
   ]
  },
  {
   "cell_type": "code",
   "execution_count": 2,
   "id": "waiting-habitat",
   "metadata": {},
   "outputs": [],
   "source": [
    "EUR_JPY_M1 = pd.read_csv('./data/EUR_JPY_200101022301202012312359_M1.csv')"
   ]
  },
  {
   "cell_type": "code",
   "execution_count": 3,
   "id": "dominican-boards",
   "metadata": {},
   "outputs": [
    {
     "name": "stdout",
     "output_type": "stream",
     "text": [
      "dataframeの各列のデータ型を確認==>\n",
      " <TICKER>         object\n",
      "<DTYYYYMMDD>      int64\n",
      "<TIME>            int64\n",
      "<OPEN>          float64\n",
      "<HIGH>          float64\n",
      "<LOW>           float64\n",
      "<CLOSE>         float64\n",
      "<VOL>             int64\n",
      "dtype: object\n"
     ]
    }
   ],
   "source": [
    "EUR_JPY_M1['D'] = EUR_JPY_M1['<DTYYYYMMDD>'].apply(str)\n",
    "EUR_JPY_M1['T'] = EUR_JPY_M1['<TIME>'].apply(str)"
   ]
  },
  {
   "cell_type": "code",
   "execution_count": 6,
   "id": "center-cleveland",
   "metadata": {},
   "outputs": [],
   "source": [
    "EUR_JPY_M1['YYYY'] = EUR_JPY_M1['D'].str[:4]\n",
    "EUR_JPY_M1['MM'] = EUR_JPY_M1['D'].str[4:6]\n",
    "EUR_JPY_M1['DD'] = EUR_JPY_M1['D'].str[6:8]\n",
    "EUR_JPY_M1['hh'] = EUR_JPY_M1['T'].str[-6:-4]\n",
    "EUR_JPY_M1['mm'] = EUR_JPY_M1['T'].str[-4:-2]\n",
    "EUR_JPY_M1['ss'] = EUR_JPY_M1['T'].str[-2:-0]\n",
    "#時間列に空白があるためいったんNaNに置き換える\n",
    "EUR_JPY_M1['hh'] = EUR_JPY_M1['hh'].replace(r'^\\s*$', np.nan, regex=True)\n",
    "EUR_JPY_M1['mm'] = EUR_JPY_M1['mm'].replace(r'^\\s*$', np.nan, regex=True)\n",
    "EUR_JPY_M1['ss'] = EUR_JPY_M1['ss'].replace(r'^\\s*$', np.nan, regex=True)\n",
    "#NaNを00に置き換え直す\n",
    "EUR_JPY_M1.fillna({'hh': '00', 'mm': '00', 'ss': '00'}, inplace=True)"
   ]
  },
  {
   "cell_type": "code",
   "execution_count": 7,
   "id": "saved-consciousness",
   "metadata": {},
   "outputs": [],
   "source": [
    "EUR_JPY_M1['DT'] = EUR_JPY_M1['YYYY'] + '/' + EUR_JPY_M1['MM'] + '/' + EUR_JPY_M1['DD'] + ' ' + EUR_JPY_M1['hh'] + ':' + EUR_JPY_M1['mm'] + ':' + EUR_JPY_M1['ss']"
   ]
  },
  {
   "cell_type": "code",
   "execution_count": 11,
   "id": "norwegian-guinea",
   "metadata": {},
   "outputs": [],
   "source": [
    "EUR_JPY_M1 = EUR_JPY_M1.set_index('DT')\n",
    "EUR_JPY_M1 = EUR_JPY_M1.rename(columns={'<OPEN>': 'EURJPYOPEN', '<HIGH>': 'EURJPYHIGH', '<LOW>': 'EURJPYLOW', '<CLOSE>': 'EURJPYCLOSE', '<VOL>': 'EURJPYVOL'})\n",
    "EUR_JPY_M1 = EUR_JPY_M1.drop(['<TICKER>', '<DTYYYYMMDD>', '<TIME>', 'D', 'T', 'YYYY', 'MM', 'DD', 'hh', 'mm', 'ss'], axis=1)"
   ]
  },
  {
   "cell_type": "code",
   "execution_count": 14,
   "id": "international-boxing",
   "metadata": {},
   "outputs": [],
   "source": [
    "EUR_USD_M1 = pd.read_csv('./data/EUR_USD200101022301-202012312359_M1.csv')\n",
    "EUR_USD_M1['D'] = EUR_USD_M1['<DTYYYYMMDD>'].apply(str)\n",
    "EUR_USD_M1['T'] = EUR_USD_M1['<TIME>'].apply(str)\n",
    "EUR_USD_M1['YYYY'] = EUR_USD_M1['D'].str[:4]\n",
    "EUR_USD_M1['MM'] = EUR_USD_M1['D'].str[4:6]\n",
    "EUR_USD_M1['DD'] = EUR_USD_M1['D'].str[6:8]\n",
    "EUR_USD_M1['hh'] = EUR_USD_M1['T'].str[-6:-4]\n",
    "EUR_USD_M1['mm'] = EUR_USD_M1['T'].str[-4:-2]\n",
    "EUR_USD_M1['ss'] = EUR_USD_M1['T'].str[-2:-0]\n",
    "#時間列に空白があるためいったんNaNに置き換える\n",
    "EUR_USD_M1['hh'] = EUR_USD_M1['hh'].replace(r'^\\s*$', np.nan, regex=True)\n",
    "EUR_USD_M1['mm'] = EUR_USD_M1['mm'].replace(r'^\\s*$', np.nan, regex=True)\n",
    "EUR_USD_M1['ss'] = EUR_USD_M1['ss'].replace(r'^\\s*$', np.nan, regex=True)\n",
    "#NaNを00に置き換え直す\n",
    "EUR_USD_M1.fillna({'hh': '00', 'mm': '00', 'ss': '00'}, inplace=True)\n",
    "EUR_USD_M1['DT'] = EUR_USD_M1['YYYY'] + '/' + EUR_USD_M1['MM'] + '/' + EUR_USD_M1['DD'] + ' ' + EUR_USD_M1['hh'] + ':' + EUR_USD_M1['mm'] + ':' + EUR_USD_M1['ss']\n",
    "EUR_USD_M1 = EUR_USD_M1.set_index('DT')\n",
    "EUR_USD_M1 = EUR_USD_M1.rename(columns={'<OPEN>': 'EURJPYOPEN', '<HIGH>': 'EURJPYHIGH', '<LOW>': 'EURJPYLOW', '<CLOSE>': 'EURJPYCLOSE', '<VOL>': 'EURJPYVOL'})\n",
    "EUR_USD_M1 = EUR_USD_M1.rename(columns={'EURJPYOPEN': 'EURUSDOPEN', 'EURJPYHIGH': 'EURUSDHIGH', 'EURJPYLOW': 'EURUSDLOW', 'EURJPYCLOSE': 'EURUSDCLOSE', 'EURJPYVOL': 'EURUSDVOL'})\n",
    "EUR_USD_M1 = EUR_USD_M1.drop(['<TICKER>', '<DTYYYYMMDD>', '<TIME>', 'D', 'T', 'YYYY', 'MM', 'DD', 'hh', 'mm', 'ss'], axis=1)"
   ]
  },
  {
   "cell_type": "code",
   "execution_count": 17,
   "id": "voluntary-craft",
   "metadata": {},
   "outputs": [],
   "source": [
    "USD_JPY_M1 = pd.read_csv('./data/USD_JPY200101022303-202012312359_M1.csv')\n",
    "USD_JPY_M1['D'] = USD_JPY_M1['<DTYYYYMMDD>'].apply(str)\n",
    "USD_JPY_M1['T'] = USD_JPY_M1['<TIME>'].apply(str)\n",
    "USD_JPY_M1['YYYY'] = USD_JPY_M1['D'].str[:4]\n",
    "USD_JPY_M1['MM'] = USD_JPY_M1['D'].str[4:6]\n",
    "USD_JPY_M1['DD'] = USD_JPY_M1['D'].str[6:8]\n",
    "USD_JPY_M1['hh'] = USD_JPY_M1['T'].str[-6:-4]\n",
    "USD_JPY_M1['mm'] = USD_JPY_M1['T'].str[-4:-2]\n",
    "USD_JPY_M1['ss'] = USD_JPY_M1['T'].str[-2:-0]\n",
    "#時間列に空白があるためいったんNaNに置き換える\n",
    "USD_JPY_M1['hh'] = USD_JPY_M1['hh'].replace(r'^\\s*$', np.nan, regex=True)\n",
    "USD_JPY_M1['mm'] = USD_JPY_M1['mm'].replace(r'^\\s*$', np.nan, regex=True)\n",
    "USD_JPY_M1['ss'] = USD_JPY_M1['ss'].replace(r'^\\s*$', np.nan, regex=True)\n",
    "#NaNを00に置き換え直す\n",
    "#EUR_JPY_M1 = EUR_JPY_M1.fillna({'hh': '00', 'mm': '00', 'ss': '00'})\n",
    "USD_JPY_M1.fillna({'hh': '00', 'mm': '00', 'ss': '00'}, inplace=True)\n",
    "USD_JPY_M1['DT'] = USD_JPY_M1['YYYY'] + '/' + USD_JPY_M1['MM'] + '/' + USD_JPY_M1['DD'] + ' ' + USD_JPY_M1['hh'] + ':' + USD_JPY_M1['mm'] + ':' + USD_JPY_M1['ss']\n",
    "USD_JPY_M1 = USD_JPY_M1.set_index('DT')\n",
    "USD_JPY_M1 = USD_JPY_M1.rename(columns={'<OPEN>': 'USDJPYOPEN', '<HIGH>': 'USDJPYHIGH', '<LOW>': 'USDJPYLOW', '<CLOSE>': 'USDJPYCLOSE', '<VOL>': 'USDJPYVOL'})\n",
    "USD_JPY_M1 = USD_JPY_M1.drop(['<TICKER>', '<DTYYYYMMDD>', '<TIME>', 'D', 'T', 'YYYY', 'MM', 'DD', 'hh', 'mm', 'ss'], axis=1)"
   ]
  },
  {
   "cell_type": "code",
   "execution_count": 20,
   "id": "educated-remove",
   "metadata": {},
   "outputs": [],
   "source": [
    "DT_all = pd.DataFrame(index=pd.date_range(start='2001/01/02 23:01:00', end='2020/12/31 23:59:00', freq='T'))"
   ]
  },
  {
   "cell_type": "code",
   "execution_count": 22,
   "id": "cosmetic-absence",
   "metadata": {},
   "outputs": [
    {
     "ename": "ValueError",
     "evalue": "You are trying to merge on datetime64[ns] and object columns. If you wish to proceed you should use pd.concat",
     "output_type": "error",
     "traceback": [
      "\u001b[1;31m---------------------------------------------------------------------------\u001b[0m",
      "\u001b[1;31mValueError\u001b[0m                                Traceback (most recent call last)",
      "\u001b[1;32m<ipython-input-22-0ea15285243e>\u001b[0m in \u001b[0;36m<module>\u001b[1;34m\u001b[0m\n\u001b[0;32m      1\u001b[0m \u001b[1;31m#DT_concat = pd.concat([DT, EUR_JPY_M1], axis=1).reindex(DT.index)#, EUR_USD_M1, USD_JPY_M1\u001b[0m\u001b[1;33m\u001b[0m\u001b[1;33m\u001b[0m\u001b[1;33m\u001b[0m\u001b[0m\n\u001b[1;32m----> 2\u001b[1;33m \u001b[0mDT_concat\u001b[0m \u001b[1;33m=\u001b[0m \u001b[0mpd\u001b[0m\u001b[1;33m.\u001b[0m\u001b[0mmerge\u001b[0m\u001b[1;33m(\u001b[0m\u001b[0mDT_all\u001b[0m\u001b[1;33m,\u001b[0m \u001b[0mEUR_JPY_M1\u001b[0m\u001b[1;33m,\u001b[0m \u001b[0mleft_index\u001b[0m\u001b[1;33m=\u001b[0m\u001b[1;32mTrue\u001b[0m\u001b[1;33m,\u001b[0m \u001b[0mright_on\u001b[0m\u001b[1;33m=\u001b[0m\u001b[1;34m'DT'\u001b[0m\u001b[1;33m)\u001b[0m\u001b[1;33m\u001b[0m\u001b[1;33m\u001b[0m\u001b[0m\n\u001b[0m",
      "\u001b[1;32m~\\anaconda3\\envs\\keras-cpu\\lib\\site-packages\\pandas\\core\\reshape\\merge.py\u001b[0m in \u001b[0;36mmerge\u001b[1;34m(left, right, how, on, left_on, right_on, left_index, right_index, sort, suffixes, copy, indicator, validate)\u001b[0m\n\u001b[0;32m     85\u001b[0m         \u001b[0mcopy\u001b[0m\u001b[1;33m=\u001b[0m\u001b[0mcopy\u001b[0m\u001b[1;33m,\u001b[0m\u001b[1;33m\u001b[0m\u001b[1;33m\u001b[0m\u001b[0m\n\u001b[0;32m     86\u001b[0m         \u001b[0mindicator\u001b[0m\u001b[1;33m=\u001b[0m\u001b[0mindicator\u001b[0m\u001b[1;33m,\u001b[0m\u001b[1;33m\u001b[0m\u001b[1;33m\u001b[0m\u001b[0m\n\u001b[1;32m---> 87\u001b[1;33m         \u001b[0mvalidate\u001b[0m\u001b[1;33m=\u001b[0m\u001b[0mvalidate\u001b[0m\u001b[1;33m,\u001b[0m\u001b[1;33m\u001b[0m\u001b[1;33m\u001b[0m\u001b[0m\n\u001b[0m\u001b[0;32m     88\u001b[0m     )\n\u001b[0;32m     89\u001b[0m     \u001b[1;32mreturn\u001b[0m \u001b[0mop\u001b[0m\u001b[1;33m.\u001b[0m\u001b[0mget_result\u001b[0m\u001b[1;33m(\u001b[0m\u001b[1;33m)\u001b[0m\u001b[1;33m\u001b[0m\u001b[1;33m\u001b[0m\u001b[0m\n",
      "\u001b[1;32m~\\anaconda3\\envs\\keras-cpu\\lib\\site-packages\\pandas\\core\\reshape\\merge.py\u001b[0m in \u001b[0;36m__init__\u001b[1;34m(self, left, right, how, on, left_on, right_on, axis, left_index, right_index, sort, suffixes, copy, indicator, validate)\u001b[0m\n\u001b[0;32m    654\u001b[0m         \u001b[1;31m# validate the merge keys dtypes. We may need to coerce\u001b[0m\u001b[1;33m\u001b[0m\u001b[1;33m\u001b[0m\u001b[1;33m\u001b[0m\u001b[0m\n\u001b[0;32m    655\u001b[0m         \u001b[1;31m# to avoid incompatible dtypes\u001b[0m\u001b[1;33m\u001b[0m\u001b[1;33m\u001b[0m\u001b[1;33m\u001b[0m\u001b[0m\n\u001b[1;32m--> 656\u001b[1;33m         \u001b[0mself\u001b[0m\u001b[1;33m.\u001b[0m\u001b[0m_maybe_coerce_merge_keys\u001b[0m\u001b[1;33m(\u001b[0m\u001b[1;33m)\u001b[0m\u001b[1;33m\u001b[0m\u001b[1;33m\u001b[0m\u001b[0m\n\u001b[0m\u001b[0;32m    657\u001b[0m \u001b[1;33m\u001b[0m\u001b[0m\n\u001b[0;32m    658\u001b[0m         \u001b[1;31m# If argument passed to validate,\u001b[0m\u001b[1;33m\u001b[0m\u001b[1;33m\u001b[0m\u001b[1;33m\u001b[0m\u001b[0m\n",
      "\u001b[1;32m~\\anaconda3\\envs\\keras-cpu\\lib\\site-packages\\pandas\\core\\reshape\\merge.py\u001b[0m in \u001b[0;36m_maybe_coerce_merge_keys\u001b[1;34m(self)\u001b[0m\n\u001b[0;32m   1167\u001b[0m             \u001b[1;31m# datetimelikes must match exactly\u001b[0m\u001b[1;33m\u001b[0m\u001b[1;33m\u001b[0m\u001b[1;33m\u001b[0m\u001b[0m\n\u001b[0;32m   1168\u001b[0m             \u001b[1;32melif\u001b[0m \u001b[0mneeds_i8_conversion\u001b[0m\u001b[1;33m(\u001b[0m\u001b[0mlk\u001b[0m\u001b[1;33m.\u001b[0m\u001b[0mdtype\u001b[0m\u001b[1;33m)\u001b[0m \u001b[1;32mand\u001b[0m \u001b[1;32mnot\u001b[0m \u001b[0mneeds_i8_conversion\u001b[0m\u001b[1;33m(\u001b[0m\u001b[0mrk\u001b[0m\u001b[1;33m.\u001b[0m\u001b[0mdtype\u001b[0m\u001b[1;33m)\u001b[0m\u001b[1;33m:\u001b[0m\u001b[1;33m\u001b[0m\u001b[1;33m\u001b[0m\u001b[0m\n\u001b[1;32m-> 1169\u001b[1;33m                 \u001b[1;32mraise\u001b[0m \u001b[0mValueError\u001b[0m\u001b[1;33m(\u001b[0m\u001b[0mmsg\u001b[0m\u001b[1;33m)\u001b[0m\u001b[1;33m\u001b[0m\u001b[1;33m\u001b[0m\u001b[0m\n\u001b[0m\u001b[0;32m   1170\u001b[0m             \u001b[1;32melif\u001b[0m \u001b[1;32mnot\u001b[0m \u001b[0mneeds_i8_conversion\u001b[0m\u001b[1;33m(\u001b[0m\u001b[0mlk\u001b[0m\u001b[1;33m.\u001b[0m\u001b[0mdtype\u001b[0m\u001b[1;33m)\u001b[0m \u001b[1;32mand\u001b[0m \u001b[0mneeds_i8_conversion\u001b[0m\u001b[1;33m(\u001b[0m\u001b[0mrk\u001b[0m\u001b[1;33m.\u001b[0m\u001b[0mdtype\u001b[0m\u001b[1;33m)\u001b[0m\u001b[1;33m:\u001b[0m\u001b[1;33m\u001b[0m\u001b[1;33m\u001b[0m\u001b[0m\n\u001b[0;32m   1171\u001b[0m                 \u001b[1;32mraise\u001b[0m \u001b[0mValueError\u001b[0m\u001b[1;33m(\u001b[0m\u001b[0mmsg\u001b[0m\u001b[1;33m)\u001b[0m\u001b[1;33m\u001b[0m\u001b[1;33m\u001b[0m\u001b[0m\n",
      "\u001b[1;31mValueError\u001b[0m: You are trying to merge on datetime64[ns] and object columns. If you wish to proceed you should use pd.concat"
     ]
    }
   ],
   "source": [
    "#DT_concat = pd.concat([DT, EUR_JPY_M1], axis=1).reindex(DT.index)#, EUR_USD_M1, USD_JPY_M1\n",
    "DT_concat = pd.merge(DT_all, EUR_JPY_M1, left_index=True, right_on='DT')"
   ]
  },
  {
   "cell_type": "code",
   "execution_count": null,
   "id": "prescribed-magnet",
   "metadata": {},
   "outputs": [],
   "source": [
    "DT_concat[49:98]"
   ]
  },
  {
   "cell_type": "code",
   "execution_count": null,
   "id": "passing-place",
   "metadata": {},
   "outputs": [],
   "source": [
    "#merge_EUR_JPY_M1_EUR_USD_M1 = pd.merge(EUR_JPY_M1, EUR_USD_M1, on='DT', how='outer')"
   ]
  },
  {
   "cell_type": "code",
   "execution_count": null,
   "id": "opening-literacy",
   "metadata": {},
   "outputs": [],
   "source": [
    "#merge_EUR_JPY_M1_EUR_USD_M1_USD_JPY_M1 = pd.merge(merge_EUR_JPY_M1_EUR_USD_M1, USD_JPY_M1, on='DT', how='outer')"
   ]
  },
  {
   "cell_type": "code",
   "execution_count": null,
   "id": "accurate-scott",
   "metadata": {},
   "outputs": [],
   "source": [
    "#merge_EUR_JPY_M1_EUR_USD_M1_USD_JPY_M1"
   ]
  },
  {
   "cell_type": "code",
   "execution_count": null,
   "id": "younger-greece",
   "metadata": {},
   "outputs": [],
   "source": [
    "#merge_EUR_JPY_M1_EUR_USD_M1_USD_JPY_M1.isnull().sum()"
   ]
  },
  {
   "cell_type": "code",
   "execution_count": null,
   "id": "headed-monkey",
   "metadata": {},
   "outputs": [],
   "source": [
    "#df.sort_index(axis=1, ascending=False)"
   ]
  }
 ],
 "metadata": {
  "kernelspec": {
   "display_name": "Python 3",
   "language": "python",
   "name": "python3"
  },
  "language_info": {
   "codemirror_mode": {
    "name": "ipython",
    "version": 3
   },
   "file_extension": ".py",
   "mimetype": "text/x-python",
   "name": "python",
   "nbconvert_exporter": "python",
   "pygments_lexer": "ipython3",
   "version": "3.6.13"
  }
 },
 "nbformat": 4,
 "nbformat_minor": 5
}
